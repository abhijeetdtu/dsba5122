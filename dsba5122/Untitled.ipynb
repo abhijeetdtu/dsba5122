{
 "cells": [
  {
   "cell_type": "code",
   "execution_count": 1,
   "metadata": {},
   "outputs": [
    {
     "name": "stderr",
     "output_type": "stream",
     "text": [
      "Parsed with column specification:\n",
      "cols(\n",
      "  .default = col_double(),\n",
      "  hotel = \u001b[31mcol_character()\u001b[39m,\n",
      "  arrival_date_month = \u001b[31mcol_character()\u001b[39m,\n",
      "  meal = \u001b[31mcol_character()\u001b[39m,\n",
      "  country = \u001b[31mcol_character()\u001b[39m,\n",
      "  market_segment = \u001b[31mcol_character()\u001b[39m,\n",
      "  distribution_channel = \u001b[31mcol_character()\u001b[39m,\n",
      "  reserved_room_type = \u001b[31mcol_character()\u001b[39m,\n",
      "  assigned_room_type = \u001b[31mcol_character()\u001b[39m,\n",
      "  deposit_type = \u001b[31mcol_character()\u001b[39m,\n",
      "  agent = \u001b[31mcol_character()\u001b[39m,\n",
      "  company = \u001b[31mcol_character()\u001b[39m,\n",
      "  customer_type = \u001b[31mcol_character()\u001b[39m,\n",
      "  reservation_status = \u001b[31mcol_character()\u001b[39m,\n",
      "  reservation_status_date = \u001b[34mcol_date(format = \"\")\u001b[39m\n",
      ")\n",
      "\n",
      "See spec(...) for full column specifications.\n",
      "\n"
     ]
    }
   ],
   "source": [
    "df <- readr::read_csv('hotels.csv')"
   ]
  },
  {
   "cell_type": "code",
   "execution_count": 2,
   "metadata": {},
   "outputs": [
    {
     "data": {
      "text/html": [
       "<table>\n",
       "<caption>A tibble: 6 × 32</caption>\n",
       "<thead>\n",
       "\t<tr><th scope=col>hotel</th><th scope=col>is_canceled</th><th scope=col>lead_time</th><th scope=col>arrival_date_year</th><th scope=col>arrival_date_month</th><th scope=col>arrival_date_week_number</th><th scope=col>arrival_date_day_of_month</th><th scope=col>stays_in_weekend_nights</th><th scope=col>stays_in_week_nights</th><th scope=col>adults</th><th scope=col>...</th><th scope=col>deposit_type</th><th scope=col>agent</th><th scope=col>company</th><th scope=col>days_in_waiting_list</th><th scope=col>customer_type</th><th scope=col>adr</th><th scope=col>required_car_parking_spaces</th><th scope=col>total_of_special_requests</th><th scope=col>reservation_status</th><th scope=col>reservation_status_date</th></tr>\n",
       "\t<tr><th scope=col>&lt;chr&gt;</th><th scope=col>&lt;dbl&gt;</th><th scope=col>&lt;dbl&gt;</th><th scope=col>&lt;dbl&gt;</th><th scope=col>&lt;chr&gt;</th><th scope=col>&lt;dbl&gt;</th><th scope=col>&lt;dbl&gt;</th><th scope=col>&lt;dbl&gt;</th><th scope=col>&lt;dbl&gt;</th><th scope=col>&lt;dbl&gt;</th><th scope=col>...</th><th scope=col>&lt;chr&gt;</th><th scope=col>&lt;chr&gt;</th><th scope=col>&lt;chr&gt;</th><th scope=col>&lt;dbl&gt;</th><th scope=col>&lt;chr&gt;</th><th scope=col>&lt;dbl&gt;</th><th scope=col>&lt;dbl&gt;</th><th scope=col>&lt;dbl&gt;</th><th scope=col>&lt;chr&gt;</th><th scope=col>&lt;date&gt;</th></tr>\n",
       "</thead>\n",
       "<tbody>\n",
       "\t<tr><td>Resort Hotel</td><td>0</td><td>342</td><td>2015</td><td>July</td><td>27</td><td>1</td><td>0</td><td>0</td><td>2</td><td>...</td><td>No Deposit</td><td>NULL</td><td>NULL</td><td>0</td><td>Transient</td><td> 0</td><td>0</td><td>0</td><td>Check-Out</td><td>2015-07-01</td></tr>\n",
       "\t<tr><td>Resort Hotel</td><td>0</td><td>737</td><td>2015</td><td>July</td><td>27</td><td>1</td><td>0</td><td>0</td><td>2</td><td>...</td><td>No Deposit</td><td>NULL</td><td>NULL</td><td>0</td><td>Transient</td><td> 0</td><td>0</td><td>0</td><td>Check-Out</td><td>2015-07-01</td></tr>\n",
       "\t<tr><td>Resort Hotel</td><td>0</td><td>  7</td><td>2015</td><td>July</td><td>27</td><td>1</td><td>0</td><td>1</td><td>1</td><td>...</td><td>No Deposit</td><td>NULL</td><td>NULL</td><td>0</td><td>Transient</td><td>75</td><td>0</td><td>0</td><td>Check-Out</td><td>2015-07-02</td></tr>\n",
       "\t<tr><td>Resort Hotel</td><td>0</td><td> 13</td><td>2015</td><td>July</td><td>27</td><td>1</td><td>0</td><td>1</td><td>1</td><td>...</td><td>No Deposit</td><td>304 </td><td>NULL</td><td>0</td><td>Transient</td><td>75</td><td>0</td><td>0</td><td>Check-Out</td><td>2015-07-02</td></tr>\n",
       "\t<tr><td>Resort Hotel</td><td>0</td><td> 14</td><td>2015</td><td>July</td><td>27</td><td>1</td><td>0</td><td>2</td><td>2</td><td>...</td><td>No Deposit</td><td>240 </td><td>NULL</td><td>0</td><td>Transient</td><td>98</td><td>0</td><td>1</td><td>Check-Out</td><td>2015-07-03</td></tr>\n",
       "\t<tr><td>Resort Hotel</td><td>0</td><td> 14</td><td>2015</td><td>July</td><td>27</td><td>1</td><td>0</td><td>2</td><td>2</td><td>...</td><td>No Deposit</td><td>240 </td><td>NULL</td><td>0</td><td>Transient</td><td>98</td><td>0</td><td>1</td><td>Check-Out</td><td>2015-07-03</td></tr>\n",
       "</tbody>\n",
       "</table>\n"
      ],
      "text/latex": [
       "A tibble: 6 × 32\n",
       "\\begin{tabular}{lllllllllllllllllllll}\n",
       " hotel & is\\_canceled & lead\\_time & arrival\\_date\\_year & arrival\\_date\\_month & arrival\\_date\\_week\\_number & arrival\\_date\\_day\\_of\\_month & stays\\_in\\_weekend\\_nights & stays\\_in\\_week\\_nights & adults & ... & deposit\\_type & agent & company & days\\_in\\_waiting\\_list & customer\\_type & adr & required\\_car\\_parking\\_spaces & total\\_of\\_special\\_requests & reservation\\_status & reservation\\_status\\_date\\\\\n",
       " <chr> & <dbl> & <dbl> & <dbl> & <chr> & <dbl> & <dbl> & <dbl> & <dbl> & <dbl> & ... & <chr> & <chr> & <chr> & <dbl> & <chr> & <dbl> & <dbl> & <dbl> & <chr> & <date>\\\\\n",
       "\\hline\n",
       "\t Resort Hotel & 0 & 342 & 2015 & July & 27 & 1 & 0 & 0 & 2 & ... & No Deposit & NULL & NULL & 0 & Transient &  0 & 0 & 0 & Check-Out & 2015-07-01\\\\\n",
       "\t Resort Hotel & 0 & 737 & 2015 & July & 27 & 1 & 0 & 0 & 2 & ... & No Deposit & NULL & NULL & 0 & Transient &  0 & 0 & 0 & Check-Out & 2015-07-01\\\\\n",
       "\t Resort Hotel & 0 &   7 & 2015 & July & 27 & 1 & 0 & 1 & 1 & ... & No Deposit & NULL & NULL & 0 & Transient & 75 & 0 & 0 & Check-Out & 2015-07-02\\\\\n",
       "\t Resort Hotel & 0 &  13 & 2015 & July & 27 & 1 & 0 & 1 & 1 & ... & No Deposit & 304  & NULL & 0 & Transient & 75 & 0 & 0 & Check-Out & 2015-07-02\\\\\n",
       "\t Resort Hotel & 0 &  14 & 2015 & July & 27 & 1 & 0 & 2 & 2 & ... & No Deposit & 240  & NULL & 0 & Transient & 98 & 0 & 1 & Check-Out & 2015-07-03\\\\\n",
       "\t Resort Hotel & 0 &  14 & 2015 & July & 27 & 1 & 0 & 2 & 2 & ... & No Deposit & 240  & NULL & 0 & Transient & 98 & 0 & 1 & Check-Out & 2015-07-03\\\\\n",
       "\\end{tabular}\n"
      ],
      "text/markdown": [
       "\n",
       "A tibble: 6 × 32\n",
       "\n",
       "| hotel &lt;chr&gt; | is_canceled &lt;dbl&gt; | lead_time &lt;dbl&gt; | arrival_date_year &lt;dbl&gt; | arrival_date_month &lt;chr&gt; | arrival_date_week_number &lt;dbl&gt; | arrival_date_day_of_month &lt;dbl&gt; | stays_in_weekend_nights &lt;dbl&gt; | stays_in_week_nights &lt;dbl&gt; | adults &lt;dbl&gt; | ... ... | deposit_type &lt;chr&gt; | agent &lt;chr&gt; | company &lt;chr&gt; | days_in_waiting_list &lt;dbl&gt; | customer_type &lt;chr&gt; | adr &lt;dbl&gt; | required_car_parking_spaces &lt;dbl&gt; | total_of_special_requests &lt;dbl&gt; | reservation_status &lt;chr&gt; | reservation_status_date &lt;date&gt; |\n",
       "|---|---|---|---|---|---|---|---|---|---|---|---|---|---|---|---|---|---|---|---|---|\n",
       "| Resort Hotel | 0 | 342 | 2015 | July | 27 | 1 | 0 | 0 | 2 | ... | No Deposit | NULL | NULL | 0 | Transient |  0 | 0 | 0 | Check-Out | 2015-07-01 |\n",
       "| Resort Hotel | 0 | 737 | 2015 | July | 27 | 1 | 0 | 0 | 2 | ... | No Deposit | NULL | NULL | 0 | Transient |  0 | 0 | 0 | Check-Out | 2015-07-01 |\n",
       "| Resort Hotel | 0 |   7 | 2015 | July | 27 | 1 | 0 | 1 | 1 | ... | No Deposit | NULL | NULL | 0 | Transient | 75 | 0 | 0 | Check-Out | 2015-07-02 |\n",
       "| Resort Hotel | 0 |  13 | 2015 | July | 27 | 1 | 0 | 1 | 1 | ... | No Deposit | 304  | NULL | 0 | Transient | 75 | 0 | 0 | Check-Out | 2015-07-02 |\n",
       "| Resort Hotel | 0 |  14 | 2015 | July | 27 | 1 | 0 | 2 | 2 | ... | No Deposit | 240  | NULL | 0 | Transient | 98 | 0 | 1 | Check-Out | 2015-07-03 |\n",
       "| Resort Hotel | 0 |  14 | 2015 | July | 27 | 1 | 0 | 2 | 2 | ... | No Deposit | 240  | NULL | 0 | Transient | 98 | 0 | 1 | Check-Out | 2015-07-03 |\n",
       "\n"
      ],
      "text/plain": [
       "  hotel        is_canceled lead_time arrival_date_year arrival_date_month\n",
       "1 Resort Hotel 0           342       2015              July              \n",
       "2 Resort Hotel 0           737       2015              July              \n",
       "3 Resort Hotel 0             7       2015              July              \n",
       "4 Resort Hotel 0            13       2015              July              \n",
       "5 Resort Hotel 0            14       2015              July              \n",
       "6 Resort Hotel 0            14       2015              July              \n",
       "  arrival_date_week_number arrival_date_day_of_month stays_in_weekend_nights\n",
       "1 27                       1                         0                      \n",
       "2 27                       1                         0                      \n",
       "3 27                       1                         0                      \n",
       "4 27                       1                         0                      \n",
       "5 27                       1                         0                      \n",
       "6 27                       1                         0                      \n",
       "  stays_in_week_nights adults ... deposit_type agent company\n",
       "1 0                    2      ... No Deposit   NULL  NULL   \n",
       "2 0                    2      ... No Deposit   NULL  NULL   \n",
       "3 1                    1      ... No Deposit   NULL  NULL   \n",
       "4 1                    1      ... No Deposit   304   NULL   \n",
       "5 2                    2      ... No Deposit   240   NULL   \n",
       "6 2                    2      ... No Deposit   240   NULL   \n",
       "  days_in_waiting_list customer_type adr required_car_parking_spaces\n",
       "1 0                    Transient      0  0                          \n",
       "2 0                    Transient      0  0                          \n",
       "3 0                    Transient     75  0                          \n",
       "4 0                    Transient     75  0                          \n",
       "5 0                    Transient     98  0                          \n",
       "6 0                    Transient     98  0                          \n",
       "  total_of_special_requests reservation_status reservation_status_date\n",
       "1 0                         Check-Out          2015-07-01             \n",
       "2 0                         Check-Out          2015-07-01             \n",
       "3 0                         Check-Out          2015-07-02             \n",
       "4 0                         Check-Out          2015-07-02             \n",
       "5 1                         Check-Out          2015-07-03             \n",
       "6 1                         Check-Out          2015-07-03             "
      ]
     },
     "metadata": {},
     "output_type": "display_data"
    }
   ],
   "source": [
    "head(df)"
   ]
  },
  {
   "cell_type": "code",
   "execution_count": 99,
   "metadata": {},
   "outputs": [],
   "source": [
    "library(ggplot2)\n",
    "library(dplyr)\n",
    "library(tidyr)\n",
    "library(ggrepel)\n",
    "library(stringr)"
   ]
  },
  {
   "cell_type": "code",
   "execution_count": 56,
   "metadata": {},
   "outputs": [
    {
     "name": "stderr",
     "output_type": "stream",
     "text": [
      "`summarise()` regrouping output by 'arrival_date_year', 'hotel' (override with `.groups` argument)\n",
      "\n"
     ]
    },
    {
     "data": {
      "text/html": [
       "<table>\n",
       "<caption>A grouped_df: 12 × 5</caption>\n",
       "<thead>\n",
       "\t<tr><th scope=col>arrival_date_year</th><th scope=col>hotel</th><th scope=col>is_canceled</th><th scope=col>count</th><th scope=col>ratio</th></tr>\n",
       "\t<tr><th scope=col>&lt;dbl&gt;</th><th scope=col>&lt;chr&gt;</th><th scope=col>&lt;dbl&gt;</th><th scope=col>&lt;int&gt;</th><th scope=col>&lt;dbl&gt;</th></tr>\n",
       "</thead>\n",
       "<tbody>\n",
       "\t<tr><td>2015</td><td>City Hotel  </td><td>0</td><td> 7678</td><td>0.56</td></tr>\n",
       "\t<tr><td>2015</td><td>City Hotel  </td><td>1</td><td> 6004</td><td>0.44</td></tr>\n",
       "\t<tr><td>2015</td><td>Resort Hotel</td><td>0</td><td> 6176</td><td>0.74</td></tr>\n",
       "\t<tr><td>2015</td><td>Resort Hotel</td><td>1</td><td> 2138</td><td>0.26</td></tr>\n",
       "\t<tr><td>2016</td><td>City Hotel  </td><td>0</td><td>22733</td><td>0.60</td></tr>\n",
       "\t<tr><td>2016</td><td>City Hotel  </td><td>1</td><td>15407</td><td>0.40</td></tr>\n",
       "\t<tr><td>2016</td><td>Resort Hotel</td><td>0</td><td>13637</td><td>0.73</td></tr>\n",
       "\t<tr><td>2016</td><td>Resort Hotel</td><td>1</td><td> 4930</td><td>0.27</td></tr>\n",
       "\t<tr><td>2017</td><td>City Hotel  </td><td>0</td><td>15817</td><td>0.57</td></tr>\n",
       "\t<tr><td>2017</td><td>City Hotel  </td><td>1</td><td>11691</td><td>0.43</td></tr>\n",
       "\t<tr><td>2017</td><td>Resort Hotel</td><td>0</td><td> 9125</td><td>0.69</td></tr>\n",
       "\t<tr><td>2017</td><td>Resort Hotel</td><td>1</td><td> 4054</td><td>0.31</td></tr>\n",
       "</tbody>\n",
       "</table>\n"
      ],
      "text/latex": [
       "A grouped\\_df: 12 × 5\n",
       "\\begin{tabular}{lllll}\n",
       " arrival\\_date\\_year & hotel & is\\_canceled & count & ratio\\\\\n",
       " <dbl> & <chr> & <dbl> & <int> & <dbl>\\\\\n",
       "\\hline\n",
       "\t 2015 & City Hotel   & 0 &  7678 & 0.56\\\\\n",
       "\t 2015 & City Hotel   & 1 &  6004 & 0.44\\\\\n",
       "\t 2015 & Resort Hotel & 0 &  6176 & 0.74\\\\\n",
       "\t 2015 & Resort Hotel & 1 &  2138 & 0.26\\\\\n",
       "\t 2016 & City Hotel   & 0 & 22733 & 0.60\\\\\n",
       "\t 2016 & City Hotel   & 1 & 15407 & 0.40\\\\\n",
       "\t 2016 & Resort Hotel & 0 & 13637 & 0.73\\\\\n",
       "\t 2016 & Resort Hotel & 1 &  4930 & 0.27\\\\\n",
       "\t 2017 & City Hotel   & 0 & 15817 & 0.57\\\\\n",
       "\t 2017 & City Hotel   & 1 & 11691 & 0.43\\\\\n",
       "\t 2017 & Resort Hotel & 0 &  9125 & 0.69\\\\\n",
       "\t 2017 & Resort Hotel & 1 &  4054 & 0.31\\\\\n",
       "\\end{tabular}\n"
      ],
      "text/markdown": [
       "\n",
       "A grouped_df: 12 × 5\n",
       "\n",
       "| arrival_date_year &lt;dbl&gt; | hotel &lt;chr&gt; | is_canceled &lt;dbl&gt; | count &lt;int&gt; | ratio &lt;dbl&gt; |\n",
       "|---|---|---|---|---|\n",
       "| 2015 | City Hotel   | 0 |  7678 | 0.56 |\n",
       "| 2015 | City Hotel   | 1 |  6004 | 0.44 |\n",
       "| 2015 | Resort Hotel | 0 |  6176 | 0.74 |\n",
       "| 2015 | Resort Hotel | 1 |  2138 | 0.26 |\n",
       "| 2016 | City Hotel   | 0 | 22733 | 0.60 |\n",
       "| 2016 | City Hotel   | 1 | 15407 | 0.40 |\n",
       "| 2016 | Resort Hotel | 0 | 13637 | 0.73 |\n",
       "| 2016 | Resort Hotel | 1 |  4930 | 0.27 |\n",
       "| 2017 | City Hotel   | 0 | 15817 | 0.57 |\n",
       "| 2017 | City Hotel   | 1 | 11691 | 0.43 |\n",
       "| 2017 | Resort Hotel | 0 |  9125 | 0.69 |\n",
       "| 2017 | Resort Hotel | 1 |  4054 | 0.31 |\n",
       "\n"
      ],
      "text/plain": [
       "   arrival_date_year hotel        is_canceled count ratio\n",
       "1  2015              City Hotel   0            7678 0.56 \n",
       "2  2015              City Hotel   1            6004 0.44 \n",
       "3  2015              Resort Hotel 0            6176 0.74 \n",
       "4  2015              Resort Hotel 1            2138 0.26 \n",
       "5  2016              City Hotel   0           22733 0.60 \n",
       "6  2016              City Hotel   1           15407 0.40 \n",
       "7  2016              Resort Hotel 0           13637 0.73 \n",
       "8  2016              Resort Hotel 1            4930 0.27 \n",
       "9  2017              City Hotel   0           15817 0.57 \n",
       "10 2017              City Hotel   1           11691 0.43 \n",
       "11 2017              Resort Hotel 0            9125 0.69 \n",
       "12 2017              Resort Hotel 1            4054 0.31 "
      ]
     },
     "metadata": {},
     "output_type": "display_data"
    }
   ],
   "source": [
    "pltdf <- df %>% \n",
    "    group_by(arrival_date_year , hotel , is_canceled) %>% \n",
    "    summarise(count = n()) %>% \n",
    "    mutate(ratio=round((count/sum(count)),digits= 2) ) \n",
    " "
   ]
  },
  {
   "cell_type": "code",
   "execution_count": 86,
   "metadata": {},
   "outputs": [
    {
     "data": {
      "image/png": "[encoded data removed]",
      "text/plain": [
       "plot without title"
      ]
     },
     "metadata": {
      "image/png": {
       "height": 420,
       "width": 420
      }
     },
     "output_type": "display_data"
    }
   ],
   "source": [
    "(\n",
    "    ggplot(pltdf , aes(x=hotel , y=ratio , fill=factor(is_canceled)))\n",
    "    + geom_col(position=position_fill())\n",
    "    + facet_wrap(~ arrival_date_year)\n",
    "    + scale_y_continuous(labels=scales::percent)\n",
    "    + geom_text(aes(y = ratio, label = scales::percent(ratio , accuracy = 1)),\n",
    "                  position=position_fill(0.5), color = \"black\")\n",
    "    + scale_fill_manual(values = c(\"#95d5b2\", \"#f28482\") , name=\"Canceled ?\" , labels=c(\"No\" , \"Yes\"))\n",
    "    #+ theme(legend.title = element_text(\"Canceled ?\"))\n",
    ")"
   ]
  },
  {
   "cell_type": "code",
   "execution_count": 98,
   "metadata": {},
   "outputs": [
    {
     "name": "stderr",
     "output_type": "stream",
     "text": [
      "Warning message:\n",
      "\"package 'Rtsne' was built under R version 4.0.3\"\n"
     ]
    }
   ],
   "source": [
    "library(Rtsne)"
   ]
  },
  {
   "cell_type": "code",
   "execution_count": 138,
   "metadata": {},
   "outputs": [],
   "source": [
    "sampleddf <- df %>% select(total_of_special_requests , required_car_parking_spaces , booking_changes ,is_repeated_guest , adults,lead_time , previous_cancellations,days_in_waiting_list , adr , is_canceled)\n",
    "sampleddf <- sampleddf[!duplicated(sampleddf) , ] %>%  drop_na()\n",
    "idx <- sample(nrow(sampleddf), 30000)\n",
    "sampleddf <- sampleddf[idx, ]"
   ]
  },
  {
   "cell_type": "code",
   "execution_count": 142,
   "metadata": {},
   "outputs": [
    {
     "name": "stderr",
     "output_type": "stream",
     "text": [
      "Warning message:\n",
      "\"package 'rpart.plot' was built under R version 4.0.2\"\n"
     ]
    }
   ],
   "source": [
    "library(rpart)\n",
    "library(rpart.plot)"
   ]
  },
  {
   "cell_type": "code",
   "execution_count": 149,
   "metadata": {},
   "outputs": [],
   "source": [
    "sdf <- df %>% select(total_of_special_requests , required_car_parking_spaces , booking_changes ,is_repeated_guest , adults,lead_time , previous_cancellations,days_in_waiting_list , adr , is_canceled)\n",
    "sdf$is_canceled <- if_else(sdf$is_canceled == 0, \"no\", \"yes\") %>% as.factor()\n",
    "fit <- rpart(is_canceled ~ ., method=\"class\", data=sdf)"
   ]
  },
  {
   "cell_type": "code",
   "execution_count": 150,
   "metadata": {},
   "outputs": [
    {
     "data": {
      "image/png": "[encoded data removed]",
      "text/plain": [
       "plot without title"
      ]
     },
     "metadata": {
      "image/png": {
       "height": 420,
       "width": 420
      }
     },
     "output_type": "display_data"
    }
   ],
   "source": [
    "    rpart.plot(fit)"
   ]
  },
  {
   "cell_type": "code",
   "execution_count": 137,
   "metadata": {},
   "outputs": [
    {
     "data": {
      "image/png": "[encoded data removed]",
      "text/plain": [
       "plot without title"
      ]
     },
     "metadata": {
      "image/png": {
       "height": 420,
       "width": 420
      }
     },
     "output_type": "display_data"
    }
   ],
   "source": [
    "tsnedf <- tsne$Y %>% as.data.frame()\n",
    "tsnedf$is_canceled <- sampleddf$is_canceled\n",
    "ggplot(tsnedf, aes(x=V1 , y=V2 , color=factor(is_canceled))) + geom_point(stroke=0)"
   ]
  },
  {
   "cell_type": "code",
   "execution_count": 15,
   "metadata": {},
   "outputs": [
    {
     "name": "stderr",
     "output_type": "stream",
     "text": [
      "Warning message:\n",
      "\"package 'gifski' was built under R version 4.0.3\"\n"
     ]
    }
   ],
   "source": [
    "library(gganimate)\n",
    "library(gifski)"
   ]
  },
  {
   "cell_type": "code",
   "execution_count": null,
   "metadata": {},
   "outputs": [
    {
     "name": "stderr",
     "output_type": "stream",
     "text": [
      "\n",
      "Rendering [-------------------------------------------] at 0.53 fps ~ eta:  3m\n",
      "\n",
      "Rendering [>------------------------------------------] at 0.54 fps ~ eta:  3m\n",
      "\n",
      "Rendering [=>-----------------------------------------] at 0.54 fps ~ eta:  3m\n",
      "\n",
      "Rendering [==>----------------------------------------] at 0.54 fps ~ eta:  3m\n"
     ]
    }
   ],
   "source": [
    "(\n",
    "    ggplot(df , aes(x=booking_changes , y=days_in_waiting_list , fill=factor(is_canceled))) +\n",
    "    geom_point() + \n",
    "    transition_states(arrival_date_year)\n",
    ")"
   ]
  },
  {
   "cell_type": "code",
   "execution_count": 29,
   "metadata": {},
   "outputs": [
    {
     "name": "stderr",
     "output_type": "stream",
     "text": [
      "Warning message:\n",
      "\"Removed 2 rows containing non-finite values (stat_density).\"\n"
     ]
    },
    {
     "data": {
      "image/png": "[encoded data removed]",
      "text/plain": [
       "plot without title"
      ]
     },
     "metadata": {
      "image/png": {
       "height": 420,
       "width": 420
      }
     },
     "output_type": "display_data"
    }
   ],
   "source": [
    "(\n",
    "    ggplot(df , aes(x=adr , fill=factor(is_canceled))) + \n",
    "    geom_density(alpha=0.4) +\n",
    "    scale_x_continuous(limits=c(0,1000))+\n",
    "    facet_wrap(~ factor(is_canceled))\n",
    ")"
   ]
  },
  {
   "cell_type": "code",
   "execution_count": 69,
   "metadata": {},
   "outputs": [
    {
     "data": {
      "text/html": [
       "<style>\n",
       ".list-inline {list-style: none; margin:0; padding: 0}\n",
       ".list-inline>li {display: inline-block}\n",
       ".list-inline>li:not(:last-child)::after {content: \"\\00b7\"; padding: 0 .5ex}\n",
       "</style>\n",
       "<ol class=list-inline><li>'hotel'</li><li>'is_canceled'</li><li>'lead_time'</li><li>'arrival_date_year'</li><li>'arrival_date_month'</li><li>'arrival_date_week_number'</li><li>'arrival_date_day_of_month'</li><li>'stays_in_weekend_nights'</li><li>'stays_in_week_nights'</li><li>'adults'</li><li>'children'</li><li>'babies'</li><li>'meal'</li><li>'country'</li><li>'market_segment'</li><li>'distribution_channel'</li><li>'is_repeated_guest'</li><li>'previous_cancellations'</li><li>'previous_bookings_not_canceled'</li><li>'reserved_room_type'</li><li>'assigned_room_type'</li><li>'booking_changes'</li><li>'deposit_type'</li><li>'days_in_waiting_list'</li><li>'customer_type'</li><li>'adr'</li><li>'required_car_parking_spaces'</li><li>'total_of_special_requests'</li><li>'reservation_status'</li><li>'reservation_status_date'</li></ol>\n"
      ],
      "text/latex": [
       "\\begin{enumerate*}\n",
       "\\item 'hotel'\n",
       "\\item 'is\\_canceled'\n",
       "\\item 'lead\\_time'\n",
       "\\item 'arrival\\_date\\_year'\n",
       "\\item 'arrival\\_date\\_month'\n",
       "\\item 'arrival\\_date\\_week\\_number'\n",
       "\\item 'arrival\\_date\\_day\\_of\\_month'\n",
       "\\item 'stays\\_in\\_weekend\\_nights'\n",
       "\\item 'stays\\_in\\_week\\_nights'\n",
       "\\item 'adults'\n",
       "\\item 'children'\n",
       "\\item 'babies'\n",
       "\\item 'meal'\n",
       "\\item 'country'\n",
       "\\item 'market\\_segment'\n",
       "\\item 'distribution\\_channel'\n",
       "\\item 'is\\_repeated\\_guest'\n",
       "\\item 'previous\\_cancellations'\n",
       "\\item 'previous\\_bookings\\_not\\_canceled'\n",
       "\\item 'reserved\\_room\\_type'\n",
       "\\item 'assigned\\_room\\_type'\n",
       "\\item 'booking\\_changes'\n",
       "\\item 'deposit\\_type'\n",
       "\\item 'days\\_in\\_waiting\\_list'\n",
       "\\item 'customer\\_type'\n",
       "\\item 'adr'\n",
       "\\item 'required\\_car\\_parking\\_spaces'\n",
       "\\item 'total\\_of\\_special\\_requests'\n",
       "\\item 'reservation\\_status'\n",
       "\\item 'reservation\\_status\\_date'\n",
       "\\end{enumerate*}\n"
      ],
      "text/markdown": [
       "1. 'hotel'\n",
       "2. 'is_canceled'\n",
       "3. 'lead_time'\n",
       "4. 'arrival_date_year'\n",
       "5. 'arrival_date_month'\n",
       "6. 'arrival_date_week_number'\n",
       "7. 'arrival_date_day_of_month'\n",
       "8. 'stays_in_weekend_nights'\n",
       "9. 'stays_in_week_nights'\n",
       "10. 'adults'\n",
       "11. 'children'\n",
       "12. 'babies'\n",
       "13. 'meal'\n",
       "14. 'country'\n",
       "15. 'market_segment'\n",
       "16. 'distribution_channel'\n",
       "17. 'is_repeated_guest'\n",
       "18. 'previous_cancellations'\n",
       "19. 'previous_bookings_not_canceled'\n",
       "20. 'reserved_room_type'\n",
       "21. 'assigned_room_type'\n",
       "22. 'booking_changes'\n",
       "23. 'deposit_type'\n",
       "24. 'days_in_waiting_list'\n",
       "25. 'customer_type'\n",
       "26. 'adr'\n",
       "27. 'required_car_parking_spaces'\n",
       "28. 'total_of_special_requests'\n",
       "29. 'reservation_status'\n",
       "30. 'reservation_status_date'\n",
       "\n",
       "\n"
      ],
      "text/plain": [
       " [1] \"hotel\"                          \"is_canceled\"                   \n",
       " [3] \"lead_time\"                      \"arrival_date_year\"             \n",
       " [5] \"arrival_date_month\"             \"arrival_date_week_number\"      \n",
       " [7] \"arrival_date_day_of_month\"      \"stays_in_weekend_nights\"       \n",
       " [9] \"stays_in_week_nights\"           \"adults\"                        \n",
       "[11] \"children\"                       \"babies\"                        \n",
       "[13] \"meal\"                           \"country\"                       \n",
       "[15] \"market_segment\"                 \"distribution_channel\"          \n",
       "[17] \"is_repeated_guest\"              \"previous_cancellations\"        \n",
       "[19] \"previous_bookings_not_canceled\" \"reserved_room_type\"            \n",
       "[21] \"assigned_room_type\"             \"booking_changes\"               \n",
       "[23] \"deposit_type\"                   \"days_in_waiting_list\"          \n",
       "[25] \"customer_type\"                  \"adr\"                           \n",
       "[27] \"required_car_parking_spaces\"    \"total_of_special_requests\"     \n",
       "[29] \"reservation_status\"             \"reservation_status_date\"       "
      ]
     },
     "metadata": {},
     "output_type": "display_data"
    }
   ],
   "source": [
    "df %>% select(-one_of(c(\"company\" , \"agent\"))) %>% colnames()"
   ]
  },
  {
   "cell_type": "code",
   "execution_count": 64,
   "metadata": {},
   "outputs": [],
   "source": [
    "linearmodel <- lm(adr ~ . , df %>% select(-one_of(c(\"company\" , \"agent\"))))"
   ]
  },
  {
   "cell_type": "code",
   "execution_count": 72,
   "metadata": {},
   "outputs": [],
   "source": [
    "lm_summary <- summary(linearmodel)"
   ]
  },
  {
   "cell_type": "code",
   "execution_count": 73,
   "metadata": {},
   "outputs": [
    {
     "data": {
      "text/html": [
       "<style>\n",
       ".list-inline {list-style: none; margin:0; padding: 0}\n",
       ".list-inline>li {display: inline-block}\n",
       ".list-inline>li:not(:last-child)::after {content: \"\\00b7\"; padding: 0 .5ex}\n",
       "</style>\n",
       "<ol class=list-inline><li>'call'</li><li>'terms'</li><li>'residuals'</li><li>'coefficients'</li><li>'aliased'</li><li>'sigma'</li><li>'df'</li><li>'r.squared'</li><li>'adj.r.squared'</li><li>'fstatistic'</li><li>'cov.unscaled'</li><li>'na.action'</li></ol>\n"
      ],
      "text/latex": [
       "\\begin{enumerate*}\n",
       "\\item 'call'\n",
       "\\item 'terms'\n",
       "\\item 'residuals'\n",
       "\\item 'coefficients'\n",
       "\\item 'aliased'\n",
       "\\item 'sigma'\n",
       "\\item 'df'\n",
       "\\item 'r.squared'\n",
       "\\item 'adj.r.squared'\n",
       "\\item 'fstatistic'\n",
       "\\item 'cov.unscaled'\n",
       "\\item 'na.action'\n",
       "\\end{enumerate*}\n"
      ],
      "text/markdown": [
       "1. 'call'\n",
       "2. 'terms'\n",
       "3. 'residuals'\n",
       "4. 'coefficients'\n",
       "5. 'aliased'\n",
       "6. 'sigma'\n",
       "7. 'df'\n",
       "8. 'r.squared'\n",
       "9. 'adj.r.squared'\n",
       "10. 'fstatistic'\n",
       "11. 'cov.unscaled'\n",
       "12. 'na.action'\n",
       "\n",
       "\n"
      ],
      "text/plain": [
       " [1] \"call\"          \"terms\"         \"residuals\"     \"coefficients\" \n",
       " [5] \"aliased\"       \"sigma\"         \"df\"            \"r.squared\"    \n",
       " [9] \"adj.r.squared\" \"fstatistic\"    \"cov.unscaled\"  \"na.action\"    "
      ]
     },
     "metadata": {},
     "output_type": "display_data"
    }
   ],
   "source": [
    "names(lm_summary)"
   ]
  },
  {
   "cell_type": "code",
   "execution_count": 74,
   "metadata": {},
   "outputs": [],
   "source": [
    "coefs <- lm_summary$coefficients %>% as.data.frame() \n",
    "colnames(coefs) <- c(\"estimate\" , \"stderror\" , \"tval\" , \"pval\")\n",
    "coefs <- coefs %>% filter(pval < 0.05)"
   ]
  },
  {
   "cell_type": "code",
   "execution_count": 75,
   "metadata": {},
   "outputs": [
    {
     "data": {
      "text/html": [
       "<table>\n",
       "<caption>A data.frame: 58 × 5</caption>\n",
       "<thead>\n",
       "\t<tr><th></th><th scope=col>estimate</th><th scope=col>stderror</th><th scope=col>tval</th><th scope=col>pval</th><th scope=col>variable</th></tr>\n",
       "\t<tr><th></th><th scope=col>&lt;dbl&gt;</th><th scope=col>&lt;dbl&gt;</th><th scope=col>&lt;dbl&gt;</th><th scope=col>&lt;dbl&gt;</th><th scope=col>&lt;chr&gt;</th></tr>\n",
       "</thead>\n",
       "<tbody>\n",
       "\t<tr><th scope=row>(Intercept)</th><td>-3.470062e+04</td><td>1.651449e+03</td><td>-21.012226</td><td> 7.638999e-98</td><td>(Intercept)                   </td></tr>\n",
       "\t<tr><th scope=row>hotelResort Hotel</th><td>-2.432296e+01</td><td>2.687913e-01</td><td>-90.490143</td><td> 0.000000e+00</td><td>hotelResort Hotel             </td></tr>\n",
       "\t<tr><th scope=row>is_canceled</th><td> 4.507695e+00</td><td>2.960467e-01</td><td> 15.226298</td><td> 2.650835e-52</td><td>is_canceled                   </td></tr>\n",
       "\t<tr><th scope=row>lead_time</th><td>-9.727824e-02</td><td>1.373426e-03</td><td>-70.828915</td><td> 0.000000e+00</td><td>lead_time                     </td></tr>\n",
       "\t<tr><th scope=row>arrival_date_year</th><td> 1.724333e+01</td><td>8.370941e-01</td><td> 20.599036</td><td> 4.088481e-94</td><td>arrival_date_year             </td></tr>\n",
       "\t<tr><th scope=row>arrival_date_monthAugust</th><td> 5.037383e+01</td><td>4.442455e+00</td><td> 11.339186</td><td> 8.692811e-30</td><td>arrival_date_monthAugust      </td></tr>\n",
       "\t<tr><th scope=row>arrival_date_monthFebruary</th><td>-2.947524e+01</td><td>2.220804e+00</td><td>-13.272327</td><td> 3.577938e-40</td><td>arrival_date_monthFebruary    </td></tr>\n",
       "\t<tr><th scope=row>arrival_date_monthJanuary</th><td>-3.525729e+01</td><td>3.341732e+00</td><td>-10.550607</td><td> 5.182298e-26</td><td>arrival_date_monthJanuary     </td></tr>\n",
       "\t<tr><th scope=row>arrival_date_monthJuly</th><td> 3.733234e+01</td><td>3.319591e+00</td><td> 11.246068</td><td> 2.505401e-29</td><td>arrival_date_monthJuly        </td></tr>\n",
       "\t<tr><th scope=row>arrival_date_monthJune</th><td> 2.358299e+01</td><td>2.269269e+00</td><td> 10.392330</td><td> 2.754868e-25</td><td>arrival_date_monthJune        </td></tr>\n",
       "\t<tr><th scope=row>arrival_date_monthMarch</th><td>-1.928889e+01</td><td>1.219305e+00</td><td>-15.819574</td><td> 2.602824e-56</td><td>arrival_date_monthMarch       </td></tr>\n",
       "\t<tr><th scope=row>arrival_date_monthMay</th><td> 1.497463e+01</td><td>1.188044e+00</td><td> 12.604437</td><td> 2.105792e-36</td><td>arrival_date_monthMay         </td></tr>\n",
       "\t<tr><th scope=row>arrival_date_monthOctober</th><td> 2.381957e+01</td><td>6.665379e+00</td><td>  3.573626</td><td> 3.522112e-04</td><td>arrival_date_monthOctober     </td></tr>\n",
       "\t<tr><th scope=row>arrival_date_monthSeptember</th><td> 3.865349e+01</td><td>5.571581e+00</td><td>  6.937616</td><td> 4.007961e-12</td><td>arrival_date_monthSeptember   </td></tr>\n",
       "\t<tr><th scope=row>arrival_date_day_of_month</th><td> 2.170330e-01</td><td>3.822643e-02</td><td>  5.677564</td><td> 1.369432e-08</td><td>arrival_date_day_of_month     </td></tr>\n",
       "\t<tr><th scope=row>stays_in_weekend_nights</th><td>-8.336155e-01</td><td>1.164131e-01</td><td> -7.160837</td><td> 8.064680e-13</td><td>stays_in_weekend_nights       </td></tr>\n",
       "\t<tr><th scope=row>stays_in_week_nights</th><td> 8.155560e-01</td><td>6.324180e-02</td><td> 12.895837</td><td> 5.037839e-38</td><td>stays_in_week_nights          </td></tr>\n",
       "\t<tr><th scope=row>adults</th><td> 6.639576e+00</td><td>1.861556e-01</td><td> 35.666813</td><td>3.787263e-277</td><td>adults                        </td></tr>\n",
       "\t<tr><th scope=row>children</th><td> 1.252869e+01</td><td>3.277419e-01</td><td> 38.227309</td><td>8.493660e-318</td><td>children                      </td></tr>\n",
       "\t<tr><th scope=row>mealFB</th><td> 4.382668e+01</td><td>1.235710e+00</td><td> 35.466794</td><td>4.343788e-274</td><td>mealFB                        </td></tr>\n",
       "\t<tr><th scope=row>mealHB</th><td> 2.693159e+01</td><td>3.253242e-01</td><td> 82.783831</td><td> 0.000000e+00</td><td>mealHB                        </td></tr>\n",
       "\t<tr><th scope=row>mealSC</th><td>-1.488165e+01</td><td>3.875770e-01</td><td>-38.396620</td><td>1.394253e-320</td><td>mealSC                        </td></tr>\n",
       "\t<tr><th scope=row>mealUndefined</th><td> 3.847994e+01</td><td>1.038657e+00</td><td> 37.047803</td><td>9.905402e-299</td><td>mealUndefined                 </td></tr>\n",
       "\t<tr><th scope=row>countryAND</th><td> 5.819891e+01</td><td>2.696871e+01</td><td>  2.158016</td><td> 3.092854e-02</td><td>countryAND                    </td></tr>\n",
       "\t<tr><th scope=row>market_segmentComplementary</th><td>-8.900841e+01</td><td>2.656282e+00</td><td>-33.508652</td><td>5.021367e-245</td><td>market_segmentComplementary   </td></tr>\n",
       "\t<tr><th scope=row>market_segmentDirect</th><td> 1.481651e+01</td><td>2.418396e+00</td><td>  6.126585</td><td> 9.006518e-10</td><td>market_segmentDirect          </td></tr>\n",
       "\t<tr><th scope=row>market_segmentGroups</th><td>-5.484128e+00</td><td>2.345290e+00</td><td> -2.338358</td><td> 1.937031e-02</td><td>market_segmentGroups          </td></tr>\n",
       "\t<tr><th scope=row>market_segmentOnline TA</th><td> 1.994532e+01</td><td>2.343511e+00</td><td>  8.510868</td><td> 1.745991e-17</td><td>market_segmentOnline TA       </td></tr>\n",
       "\t<tr><th scope=row>distribution_channelGDS</th><td> 2.068808e+01</td><td>2.558864e+00</td><td>  8.084870</td><td> 6.280798e-16</td><td>distribution_channelGDS       </td></tr>\n",
       "\t<tr><th scope=row>distribution_channelTA/TO</th><td>-1.751682e+00</td><td>7.850453e-01</td><td> -2.231313</td><td> 2.566228e-02</td><td>distribution_channelTA/TO     </td></tr>\n",
       "\t<tr><th scope=row>is_repeated_guest</th><td>-1.341670e+01</td><td>6.511554e-01</td><td>-20.604446</td><td> 3.657725e-94</td><td>is_repeated_guest             </td></tr>\n",
       "\t<tr><th scope=row>previous_cancellations</th><td>-9.538175e-01</td><td>1.212438e-01</td><td> -7.866940</td><td> 3.664463e-15</td><td>previous_cancellations        </td></tr>\n",
       "\t<tr><th scope=row>previous_bookings_not_canceled</th><td>-2.839680e-01</td><td>7.414728e-02</td><td> -3.829783</td><td> 1.283220e-04</td><td>previous_bookings_not_canceled</td></tr>\n",
       "\t<tr><th scope=row>reserved_room_typeB</th><td>-1.468766e+01</td><td>1.326637e+00</td><td>-11.071345</td><td> 1.784090e-28</td><td>reserved_room_typeB           </td></tr>\n",
       "\t<tr><th scope=row>reserved_room_typeC</th><td> 3.317544e+01</td><td>1.432603e+00</td><td> 23.157449</td><td>2.237239e-118</td><td>reserved_room_typeC           </td></tr>\n",
       "\t<tr><th scope=row>reserved_room_typeD</th><td> 1.620050e+01</td><td>4.465405e-01</td><td> 36.280019</td><td>1.241109e-286</td><td>reserved_room_typeD           </td></tr>\n",
       "\t<tr><th scope=row>reserved_room_typeE</th><td> 2.358496e+01</td><td>8.147215e-01</td><td> 28.948495</td><td>1.275275e-183</td><td>reserved_room_typeE           </td></tr>\n",
       "\t<tr><th scope=row>reserved_room_typeF</th><td> 3.775543e+01</td><td>1.208640e+00</td><td> 31.237948</td><td>2.384083e-213</td><td>reserved_room_typeF           </td></tr>\n",
       "\t<tr><th scope=row>reserved_room_typeG</th><td> 4.827107e+01</td><td>1.660658e+00</td><td> 29.067426</td><td>4.130976e-185</td><td>reserved_room_typeG           </td></tr>\n",
       "\t<tr><th scope=row>reserved_room_typeH</th><td> 7.230231e+01</td><td>3.082355e+00</td><td> 23.456842</td><td>2.125379e-121</td><td>reserved_room_typeH           </td></tr>\n",
       "\t<tr><th scope=row>reserved_room_typeL</th><td> 5.059023e+01</td><td>1.506057e+01</td><td>  3.359119</td><td> 7.821600e-04</td><td>reserved_room_typeL           </td></tr>\n",
       "\t<tr><th scope=row>assigned_room_typeC</th><td> 3.027355e+00</td><td>8.875278e-01</td><td>  3.410997</td><td> 6.474720e-04</td><td>assigned_room_typeC           </td></tr>\n",
       "\t<tr><th scope=row>assigned_room_typeE</th><td> 5.106112e+00</td><td>7.491864e-01</td><td>  6.815542</td><td> 9.435317e-12</td><td>assigned_room_typeE           </td></tr>\n",
       "\t<tr><th scope=row>assigned_room_typeF</th><td> 9.301991e+00</td><td>1.051788e+00</td><td>  8.843982</td><td> 9.359015e-19</td><td>assigned_room_typeF           </td></tr>\n",
       "\t<tr><th scope=row>assigned_room_typeG</th><td> 1.255098e+01</td><td>1.483939e+00</td><td>  8.457881</td><td> 2.753007e-17</td><td>assigned_room_typeG           </td></tr>\n",
       "\t<tr><th scope=row>assigned_room_typeI</th><td>-4.389857e+01</td><td>1.799994e+00</td><td>-24.388181</td><td>4.795944e-131</td><td>assigned_room_typeI           </td></tr>\n",
       "\t<tr><th scope=row>assigned_room_typeK</th><td>-4.502833e+01</td><td>2.040290e+00</td><td>-22.069568</td><td>1.020347e-107</td><td>assigned_room_typeK           </td></tr>\n",
       "\t<tr><th scope=row>assigned_room_typeL</th><td>-1.350395e+02</td><td>3.684536e+01</td><td> -3.665034</td><td> 2.474131e-04</td><td>assigned_room_typeL           </td></tr>\n",
       "\t<tr><th scope=row>booking_changes</th><td> 8.256669e-01</td><td>1.563715e-01</td><td>  5.280163</td><td> 1.292949e-07</td><td>booking_changes               </td></tr>\n",
       "\t<tr><th scope=row>deposit_typeNon Refund</th><td> 1.739040e+01</td><td>4.833661e-01</td><td> 35.977700</td><td>6.159553e-282</td><td>deposit_typeNon Refund        </td></tr>\n",
       "\t<tr><th scope=row>deposit_typeRefundable</th><td> 2.176718e+01</td><td>2.709063e+00</td><td>  8.034948</td><td> 9.446639e-16</td><td>deposit_typeRefundable        </td></tr>\n",
       "\t<tr><th scope=row>days_in_waiting_list</th><td> 6.232745e-02</td><td>5.777711e-03</td><td> 10.787567</td><td> 4.056319e-27</td><td>days_in_waiting_list          </td></tr>\n",
       "\t<tr><th scope=row>customer_typeGroup</th><td>-4.950348e+00</td><td>1.519789e+00</td><td> -3.257261</td><td> 1.125243e-03</td><td>customer_typeGroup            </td></tr>\n",
       "\t<tr><th scope=row>customer_typeTransient</th><td> 2.642553e+00</td><td>5.763565e-01</td><td>  4.584928</td><td> 4.546026e-06</td><td>customer_typeTransient        </td></tr>\n",
       "\t<tr><th scope=row>customer_typeTransient-Party</th><td> 5.086843e+00</td><td>6.106345e-01</td><td>  8.330422</td><td> 8.139610e-17</td><td>customer_typeTransient-Party  </td></tr>\n",
       "\t<tr><th scope=row>required_car_parking_spaces</th><td> 6.444939e+00</td><td>4.241600e-01</td><td> 15.194593</td><td> 4.298436e-52</td><td>required_car_parking_spaces   </td></tr>\n",
       "\t<tr><th scope=row>total_of_special_requests</th><td> 2.205721e+00</td><td>1.441326e-01</td><td> 15.303413</td><td> 8.146677e-53</td><td>total_of_special_requests     </td></tr>\n",
       "\t<tr><th scope=row>reservation_statusNo-Show</th><td>-2.822531e+00</td><td>1.008035e+00</td><td> -2.800034</td><td> 5.110542e-03</td><td>reservation_statusNo-Show     </td></tr>\n",
       "</tbody>\n",
       "</table>\n"
      ],
      "text/latex": [
       "A data.frame: 58 × 5\n",
       "\\begin{tabular}{r|lllll}\n",
       "  & estimate & stderror & tval & pval & variable\\\\\n",
       "  & <dbl> & <dbl> & <dbl> & <dbl> & <chr>\\\\\n",
       "\\hline\n",
       "\t(Intercept) & -3.470062e+04 & 1.651449e+03 & -21.012226 &  7.638999e-98 & (Intercept)                   \\\\\n",
       "\thotelResort Hotel & -2.432296e+01 & 2.687913e-01 & -90.490143 &  0.000000e+00 & hotelResort Hotel             \\\\\n",
       "\tis\\_canceled &  4.507695e+00 & 2.960467e-01 &  15.226298 &  2.650835e-52 & is\\_canceled                   \\\\\n",
       "\tlead\\_time & -9.727824e-02 & 1.373426e-03 & -70.828915 &  0.000000e+00 & lead\\_time                     \\\\\n",
       "\tarrival\\_date\\_year &  1.724333e+01 & 8.370941e-01 &  20.599036 &  4.088481e-94 & arrival\\_date\\_year             \\\\\n",
       "\tarrival\\_date\\_monthAugust &  5.037383e+01 & 4.442455e+00 &  11.339186 &  8.692811e-30 & arrival\\_date\\_monthAugust      \\\\\n",
       "\tarrival\\_date\\_monthFebruary & -2.947524e+01 & 2.220804e+00 & -13.272327 &  3.577938e-40 & arrival\\_date\\_monthFebruary    \\\\\n",
       "\tarrival\\_date\\_monthJanuary & -3.525729e+01 & 3.341732e+00 & -10.550607 &  5.182298e-26 & arrival\\_date\\_monthJanuary     \\\\\n",
       "\tarrival\\_date\\_monthJuly &  3.733234e+01 & 3.319591e+00 &  11.246068 &  2.505401e-29 & arrival\\_date\\_monthJuly        \\\\\n",
       "\tarrival\\_date\\_monthJune &  2.358299e+01 & 2.269269e+00 &  10.392330 &  2.754868e-25 & arrival\\_date\\_monthJune        \\\\\n",
       "\tarrival\\_date\\_monthMarch & -1.928889e+01 & 1.219305e+00 & -15.819574 &  2.602824e-56 & arrival\\_date\\_monthMarch       \\\\\n",
       "\tarrival\\_date\\_monthMay &  1.497463e+01 & 1.188044e+00 &  12.604437 &  2.105792e-36 & arrival\\_date\\_monthMay         \\\\\n",
       "\tarrival\\_date\\_monthOctober &  2.381957e+01 & 6.665379e+00 &   3.573626 &  3.522112e-04 & arrival\\_date\\_monthOctober     \\\\\n",
       "\tarrival\\_date\\_monthSeptember &  3.865349e+01 & 5.571581e+00 &   6.937616 &  4.007961e-12 & arrival\\_date\\_monthSeptember   \\\\\n",
       "\tarrival\\_date\\_day\\_of\\_month &  2.170330e-01 & 3.822643e-02 &   5.677564 &  1.369432e-08 & arrival\\_date\\_day\\_of\\_month     \\\\\n",
       "\tstays\\_in\\_weekend\\_nights & -8.336155e-01 & 1.164131e-01 &  -7.160837 &  8.064680e-13 & stays\\_in\\_weekend\\_nights       \\\\\n",
       "\tstays\\_in\\_week\\_nights &  8.155560e-01 & 6.324180e-02 &  12.895837 &  5.037839e-38 & stays\\_in\\_week\\_nights          \\\\\n",
       "\tadults &  6.639576e+00 & 1.861556e-01 &  35.666813 & 3.787263e-277 & adults                        \\\\\n",
       "\tchildren &  1.252869e+01 & 3.277419e-01 &  38.227309 & 8.493660e-318 & children                      \\\\\n",
       "\tmealFB &  4.382668e+01 & 1.235710e+00 &  35.466794 & 4.343788e-274 & mealFB                        \\\\\n",
       "\tmealHB &  2.693159e+01 & 3.253242e-01 &  82.783831 &  0.000000e+00 & mealHB                        \\\\\n",
       "\tmealSC & -1.488165e+01 & 3.875770e-01 & -38.396620 & 1.394253e-320 & mealSC                        \\\\\n",
       "\tmealUndefined &  3.847994e+01 & 1.038657e+00 &  37.047803 & 9.905402e-299 & mealUndefined                 \\\\\n",
       "\tcountryAND &  5.819891e+01 & 2.696871e+01 &   2.158016 &  3.092854e-02 & countryAND                    \\\\\n",
       "\tmarket\\_segmentComplementary & -8.900841e+01 & 2.656282e+00 & -33.508652 & 5.021367e-245 & market\\_segmentComplementary   \\\\\n",
       "\tmarket\\_segmentDirect &  1.481651e+01 & 2.418396e+00 &   6.126585 &  9.006518e-10 & market\\_segmentDirect          \\\\\n",
       "\tmarket\\_segmentGroups & -5.484128e+00 & 2.345290e+00 &  -2.338358 &  1.937031e-02 & market\\_segmentGroups          \\\\\n",
       "\tmarket\\_segmentOnline TA &  1.994532e+01 & 2.343511e+00 &   8.510868 &  1.745991e-17 & market\\_segmentOnline TA       \\\\\n",
       "\tdistribution\\_channelGDS &  2.068808e+01 & 2.558864e+00 &   8.084870 &  6.280798e-16 & distribution\\_channelGDS       \\\\\n",
       "\tdistribution\\_channelTA/TO & -1.751682e+00 & 7.850453e-01 &  -2.231313 &  2.566228e-02 & distribution\\_channelTA/TO     \\\\\n",
       "\tis\\_repeated\\_guest & -1.341670e+01 & 6.511554e-01 & -20.604446 &  3.657725e-94 & is\\_repeated\\_guest             \\\\\n",
       "\tprevious\\_cancellations & -9.538175e-01 & 1.212438e-01 &  -7.866940 &  3.664463e-15 & previous\\_cancellations        \\\\\n",
       "\tprevious\\_bookings\\_not\\_canceled & -2.839680e-01 & 7.414728e-02 &  -3.829783 &  1.283220e-04 & previous\\_bookings\\_not\\_canceled\\\\\n",
       "\treserved\\_room\\_typeB & -1.468766e+01 & 1.326637e+00 & -11.071345 &  1.784090e-28 & reserved\\_room\\_typeB           \\\\\n",
       "\treserved\\_room\\_typeC &  3.317544e+01 & 1.432603e+00 &  23.157449 & 2.237239e-118 & reserved\\_room\\_typeC           \\\\\n",
       "\treserved\\_room\\_typeD &  1.620050e+01 & 4.465405e-01 &  36.280019 & 1.241109e-286 & reserved\\_room\\_typeD           \\\\\n",
       "\treserved\\_room\\_typeE &  2.358496e+01 & 8.147215e-01 &  28.948495 & 1.275275e-183 & reserved\\_room\\_typeE           \\\\\n",
       "\treserved\\_room\\_typeF &  3.775543e+01 & 1.208640e+00 &  31.237948 & 2.384083e-213 & reserved\\_room\\_typeF           \\\\\n",
       "\treserved\\_room\\_typeG &  4.827107e+01 & 1.660658e+00 &  29.067426 & 4.130976e-185 & reserved\\_room\\_typeG           \\\\\n",
       "\treserved\\_room\\_typeH &  7.230231e+01 & 3.082355e+00 &  23.456842 & 2.125379e-121 & reserved\\_room\\_typeH           \\\\\n",
       "\treserved\\_room\\_typeL &  5.059023e+01 & 1.506057e+01 &   3.359119 &  7.821600e-04 & reserved\\_room\\_typeL           \\\\\n",
       "\tassigned\\_room\\_typeC &  3.027355e+00 & 8.875278e-01 &   3.410997 &  6.474720e-04 & assigned\\_room\\_typeC           \\\\\n",
       "\tassigned\\_room\\_typeE &  5.106112e+00 & 7.491864e-01 &   6.815542 &  9.435317e-12 & assigned\\_room\\_typeE           \\\\\n",
       "\tassigned\\_room\\_typeF &  9.301991e+00 & 1.051788e+00 &   8.843982 &  9.359015e-19 & assigned\\_room\\_typeF           \\\\\n",
       "\tassigned\\_room\\_typeG &  1.255098e+01 & 1.483939e+00 &   8.457881 &  2.753007e-17 & assigned\\_room\\_typeG           \\\\\n",
       "\tassigned\\_room\\_typeI & -4.389857e+01 & 1.799994e+00 & -24.388181 & 4.795944e-131 & assigned\\_room\\_typeI           \\\\\n",
       "\tassigned\\_room\\_typeK & -4.502833e+01 & 2.040290e+00 & -22.069568 & 1.020347e-107 & assigned\\_room\\_typeK           \\\\\n",
       "\tassigned\\_room\\_typeL & -1.350395e+02 & 3.684536e+01 &  -3.665034 &  2.474131e-04 & assigned\\_room\\_typeL           \\\\\n",
       "\tbooking\\_changes &  8.256669e-01 & 1.563715e-01 &   5.280163 &  1.292949e-07 & booking\\_changes               \\\\\n",
       "\tdeposit\\_typeNon Refund &  1.739040e+01 & 4.833661e-01 &  35.977700 & 6.159553e-282 & deposit\\_typeNon Refund        \\\\\n",
       "\tdeposit\\_typeRefundable &  2.176718e+01 & 2.709063e+00 &   8.034948 &  9.446639e-16 & deposit\\_typeRefundable        \\\\\n",
       "\tdays\\_in\\_waiting\\_list &  6.232745e-02 & 5.777711e-03 &  10.787567 &  4.056319e-27 & days\\_in\\_waiting\\_list          \\\\\n",
       "\tcustomer\\_typeGroup & -4.950348e+00 & 1.519789e+00 &  -3.257261 &  1.125243e-03 & customer\\_typeGroup            \\\\\n",
       "\tcustomer\\_typeTransient &  2.642553e+00 & 5.763565e-01 &   4.584928 &  4.546026e-06 & customer\\_typeTransient        \\\\\n",
       "\tcustomer\\_typeTransient-Party &  5.086843e+00 & 6.106345e-01 &   8.330422 &  8.139610e-17 & customer\\_typeTransient-Party  \\\\\n",
       "\trequired\\_car\\_parking\\_spaces &  6.444939e+00 & 4.241600e-01 &  15.194593 &  4.298436e-52 & required\\_car\\_parking\\_spaces   \\\\\n",
       "\ttotal\\_of\\_special\\_requests &  2.205721e+00 & 1.441326e-01 &  15.303413 &  8.146677e-53 & total\\_of\\_special\\_requests     \\\\\n",
       "\treservation\\_statusNo-Show & -2.822531e+00 & 1.008035e+00 &  -2.800034 &  5.110542e-03 & reservation\\_statusNo-Show     \\\\\n",
       "\\end{tabular}\n"
      ],
      "text/markdown": [
       "\n",
       "A data.frame: 58 × 5\n",
       "\n",
       "| <!--/--> | estimate &lt;dbl&gt; | stderror &lt;dbl&gt; | tval &lt;dbl&gt; | pval &lt;dbl&gt; | variable &lt;chr&gt; |\n",
       "|---|---|---|---|---|---|\n",
       "| (Intercept) | -3.470062e+04 | 1.651449e+03 | -21.012226 |  7.638999e-98 | (Intercept)                    |\n",
       "| hotelResort Hotel | -2.432296e+01 | 2.687913e-01 | -90.490143 |  0.000000e+00 | hotelResort Hotel              |\n",
       "| is_canceled |  4.507695e+00 | 2.960467e-01 |  15.226298 |  2.650835e-52 | is_canceled                    |\n",
       "| lead_time | -9.727824e-02 | 1.373426e-03 | -70.828915 |  0.000000e+00 | lead_time                      |\n",
       "| arrival_date_year |  1.724333e+01 | 8.370941e-01 |  20.599036 |  4.088481e-94 | arrival_date_year              |\n",
       "| arrival_date_monthAugust |  5.037383e+01 | 4.442455e+00 |  11.339186 |  8.692811e-30 | arrival_date_monthAugust       |\n",
       "| arrival_date_monthFebruary | -2.947524e+01 | 2.220804e+00 | -13.272327 |  3.577938e-40 | arrival_date_monthFebruary     |\n",
       "| arrival_date_monthJanuary | -3.525729e+01 | 3.341732e+00 | -10.550607 |  5.182298e-26 | arrival_date_monthJanuary      |\n",
       "| arrival_date_monthJuly |  3.733234e+01 | 3.319591e+00 |  11.246068 |  2.505401e-29 | arrival_date_monthJuly         |\n",
       "| arrival_date_monthJune |  2.358299e+01 | 2.269269e+00 |  10.392330 |  2.754868e-25 | arrival_date_monthJune         |\n",
       "| arrival_date_monthMarch | -1.928889e+01 | 1.219305e+00 | -15.819574 |  2.602824e-56 | arrival_date_monthMarch        |\n",
       "| arrival_date_monthMay |  1.497463e+01 | 1.188044e+00 |  12.604437 |  2.105792e-36 | arrival_date_monthMay          |\n",
       "| arrival_date_monthOctober |  2.381957e+01 | 6.665379e+00 |   3.573626 |  3.522112e-04 | arrival_date_monthOctober      |\n",
       "| arrival_date_monthSeptember |  3.865349e+01 | 5.571581e+00 |   6.937616 |  4.007961e-12 | arrival_date_monthSeptember    |\n",
       "| arrival_date_day_of_month |  2.170330e-01 | 3.822643e-02 |   5.677564 |  1.369432e-08 | arrival_date_day_of_month      |\n",
       "| stays_in_weekend_nights | -8.336155e-01 | 1.164131e-01 |  -7.160837 |  8.064680e-13 | stays_in_weekend_nights        |\n",
       "| stays_in_week_nights |  8.155560e-01 | 6.324180e-02 |  12.895837 |  5.037839e-38 | stays_in_week_nights           |\n",
       "| adults |  6.639576e+00 | 1.861556e-01 |  35.666813 | 3.787263e-277 | adults                         |\n",
       "| children |  1.252869e+01 | 3.277419e-01 |  38.227309 | 8.493660e-318 | children                       |\n",
       "| mealFB |  4.382668e+01 | 1.235710e+00 |  35.466794 | 4.343788e-274 | mealFB                         |\n",
       "| mealHB |  2.693159e+01 | 3.253242e-01 |  82.783831 |  0.000000e+00 | mealHB                         |\n",
       "| mealSC | -1.488165e+01 | 3.875770e-01 | -38.396620 | 1.394253e-320 | mealSC                         |\n",
       "| mealUndefined |  3.847994e+01 | 1.038657e+00 |  37.047803 | 9.905402e-299 | mealUndefined                  |\n",
       "| countryAND |  5.819891e+01 | 2.696871e+01 |   2.158016 |  3.092854e-02 | countryAND                     |\n",
       "| market_segmentComplementary | -8.900841e+01 | 2.656282e+00 | -33.508652 | 5.021367e-245 | market_segmentComplementary    |\n",
       "| market_segmentDirect |  1.481651e+01 | 2.418396e+00 |   6.126585 |  9.006518e-10 | market_segmentDirect           |\n",
       "| market_segmentGroups | -5.484128e+00 | 2.345290e+00 |  -2.338358 |  1.937031e-02 | market_segmentGroups           |\n",
       "| market_segmentOnline TA |  1.994532e+01 | 2.343511e+00 |   8.510868 |  1.745991e-17 | market_segmentOnline TA        |\n",
       "| distribution_channelGDS |  2.068808e+01 | 2.558864e+00 |   8.084870 |  6.280798e-16 | distribution_channelGDS        |\n",
       "| distribution_channelTA/TO | -1.751682e+00 | 7.850453e-01 |  -2.231313 |  2.566228e-02 | distribution_channelTA/TO      |\n",
       "| is_repeated_guest | -1.341670e+01 | 6.511554e-01 | -20.604446 |  3.657725e-94 | is_repeated_guest              |\n",
       "| previous_cancellations | -9.538175e-01 | 1.212438e-01 |  -7.866940 |  3.664463e-15 | previous_cancellations         |\n",
       "| previous_bookings_not_canceled | -2.839680e-01 | 7.414728e-02 |  -3.829783 |  1.283220e-04 | previous_bookings_not_canceled |\n",
       "| reserved_room_typeB | -1.468766e+01 | 1.326637e+00 | -11.071345 |  1.784090e-28 | reserved_room_typeB            |\n",
       "| reserved_room_typeC |  3.317544e+01 | 1.432603e+00 |  23.157449 | 2.237239e-118 | reserved_room_typeC            |\n",
       "| reserved_room_typeD |  1.620050e+01 | 4.465405e-01 |  36.280019 | 1.241109e-286 | reserved_room_typeD            |\n",
       "| reserved_room_typeE |  2.358496e+01 | 8.147215e-01 |  28.948495 | 1.275275e-183 | reserved_room_typeE            |\n",
       "| reserved_room_typeF |  3.775543e+01 | 1.208640e+00 |  31.237948 | 2.384083e-213 | reserved_room_typeF            |\n",
       "| reserved_room_typeG |  4.827107e+01 | 1.660658e+00 |  29.067426 | 4.130976e-185 | reserved_room_typeG            |\n",
       "| reserved_room_typeH |  7.230231e+01 | 3.082355e+00 |  23.456842 | 2.125379e-121 | reserved_room_typeH            |\n",
       "| reserved_room_typeL |  5.059023e+01 | 1.506057e+01 |   3.359119 |  7.821600e-04 | reserved_room_typeL            |\n",
       "| assigned_room_typeC |  3.027355e+00 | 8.875278e-01 |   3.410997 |  6.474720e-04 | assigned_room_typeC            |\n",
       "| assigned_room_typeE |  5.106112e+00 | 7.491864e-01 |   6.815542 |  9.435317e-12 | assigned_room_typeE            |\n",
       "| assigned_room_typeF |  9.301991e+00 | 1.051788e+00 |   8.843982 |  9.359015e-19 | assigned_room_typeF            |\n",
       "| assigned_room_typeG |  1.255098e+01 | 1.483939e+00 |   8.457881 |  2.753007e-17 | assigned_room_typeG            |\n",
       "| assigned_room_typeI | -4.389857e+01 | 1.799994e+00 | -24.388181 | 4.795944e-131 | assigned_room_typeI            |\n",
       "| assigned_room_typeK | -4.502833e+01 | 2.040290e+00 | -22.069568 | 1.020347e-107 | assigned_room_typeK            |\n",
       "| assigned_room_typeL | -1.350395e+02 | 3.684536e+01 |  -3.665034 |  2.474131e-04 | assigned_room_typeL            |\n",
       "| booking_changes |  8.256669e-01 | 1.563715e-01 |   5.280163 |  1.292949e-07 | booking_changes                |\n",
       "| deposit_typeNon Refund |  1.739040e+01 | 4.833661e-01 |  35.977700 | 6.159553e-282 | deposit_typeNon Refund         |\n",
       "| deposit_typeRefundable |  2.176718e+01 | 2.709063e+00 |   8.034948 |  9.446639e-16 | deposit_typeRefundable         |\n",
       "| days_in_waiting_list |  6.232745e-02 | 5.777711e-03 |  10.787567 |  4.056319e-27 | days_in_waiting_list           |\n",
       "| customer_typeGroup | -4.950348e+00 | 1.519789e+00 |  -3.257261 |  1.125243e-03 | customer_typeGroup             |\n",
       "| customer_typeTransient |  2.642553e+00 | 5.763565e-01 |   4.584928 |  4.546026e-06 | customer_typeTransient         |\n",
       "| customer_typeTransient-Party |  5.086843e+00 | 6.106345e-01 |   8.330422 |  8.139610e-17 | customer_typeTransient-Party   |\n",
       "| required_car_parking_spaces |  6.444939e+00 | 4.241600e-01 |  15.194593 |  4.298436e-52 | required_car_parking_spaces    |\n",
       "| total_of_special_requests |  2.205721e+00 | 1.441326e-01 |  15.303413 |  8.146677e-53 | total_of_special_requests      |\n",
       "| reservation_statusNo-Show | -2.822531e+00 | 1.008035e+00 |  -2.800034 |  5.110542e-03 | reservation_statusNo-Show      |\n",
       "\n"
      ],
      "text/plain": [
       "                               estimate      stderror     tval      \n",
       "(Intercept)                    -3.470062e+04 1.651449e+03 -21.012226\n",
       "hotelResort Hotel              -2.432296e+01 2.687913e-01 -90.490143\n",
       "is_canceled                     4.507695e+00 2.960467e-01  15.226298\n",
       "lead_time                      -9.727824e-02 1.373426e-03 -70.828915\n",
       "arrival_date_year               1.724333e+01 8.370941e-01  20.599036\n",
       "arrival_date_monthAugust        5.037383e+01 4.442455e+00  11.339186\n",
       "arrival_date_monthFebruary     -2.947524e+01 2.220804e+00 -13.272327\n",
       "arrival_date_monthJanuary      -3.525729e+01 3.341732e+00 -10.550607\n",
       "arrival_date_monthJuly          3.733234e+01 3.319591e+00  11.246068\n",
       "arrival_date_monthJune          2.358299e+01 2.269269e+00  10.392330\n",
       "arrival_date_monthMarch        -1.928889e+01 1.219305e+00 -15.819574\n",
       "arrival_date_monthMay           1.497463e+01 1.188044e+00  12.604437\n",
       "arrival_date_monthOctober       2.381957e+01 6.665379e+00   3.573626\n",
       "arrival_date_monthSeptember     3.865349e+01 5.571581e+00   6.937616\n",
       "arrival_date_day_of_month       2.170330e-01 3.822643e-02   5.677564\n",
       "stays_in_weekend_nights        -8.336155e-01 1.164131e-01  -7.160837\n",
       "stays_in_week_nights            8.155560e-01 6.324180e-02  12.895837\n",
       "adults                          6.639576e+00 1.861556e-01  35.666813\n",
       "children                        1.252869e+01 3.277419e-01  38.227309\n",
       "mealFB                          4.382668e+01 1.235710e+00  35.466794\n",
       "mealHB                          2.693159e+01 3.253242e-01  82.783831\n",
       "mealSC                         -1.488165e+01 3.875770e-01 -38.396620\n",
       "mealUndefined                   3.847994e+01 1.038657e+00  37.047803\n",
       "countryAND                      5.819891e+01 2.696871e+01   2.158016\n",
       "market_segmentComplementary    -8.900841e+01 2.656282e+00 -33.508652\n",
       "market_segmentDirect            1.481651e+01 2.418396e+00   6.126585\n",
       "market_segmentGroups           -5.484128e+00 2.345290e+00  -2.338358\n",
       "market_segmentOnline TA         1.994532e+01 2.343511e+00   8.510868\n",
       "distribution_channelGDS         2.068808e+01 2.558864e+00   8.084870\n",
       "distribution_channelTA/TO      -1.751682e+00 7.850453e-01  -2.231313\n",
       "is_repeated_guest              -1.341670e+01 6.511554e-01 -20.604446\n",
       "previous_cancellations         -9.538175e-01 1.212438e-01  -7.866940\n",
       "previous_bookings_not_canceled -2.839680e-01 7.414728e-02  -3.829783\n",
       "reserved_room_typeB            -1.468766e+01 1.326637e+00 -11.071345\n",
       "reserved_room_typeC             3.317544e+01 1.432603e+00  23.157449\n",
       "reserved_room_typeD             1.620050e+01 4.465405e-01  36.280019\n",
       "reserved_room_typeE             2.358496e+01 8.147215e-01  28.948495\n",
       "reserved_room_typeF             3.775543e+01 1.208640e+00  31.237948\n",
       "reserved_room_typeG             4.827107e+01 1.660658e+00  29.067426\n",
       "reserved_room_typeH             7.230231e+01 3.082355e+00  23.456842\n",
       "reserved_room_typeL             5.059023e+01 1.506057e+01   3.359119\n",
       "assigned_room_typeC             3.027355e+00 8.875278e-01   3.410997\n",
       "assigned_room_typeE             5.106112e+00 7.491864e-01   6.815542\n",
       "assigned_room_typeF             9.301991e+00 1.051788e+00   8.843982\n",
       "assigned_room_typeG             1.255098e+01 1.483939e+00   8.457881\n",
       "assigned_room_typeI            -4.389857e+01 1.799994e+00 -24.388181\n",
       "assigned_room_typeK            -4.502833e+01 2.040290e+00 -22.069568\n",
       "assigned_room_typeL            -1.350395e+02 3.684536e+01  -3.665034\n",
       "booking_changes                 8.256669e-01 1.563715e-01   5.280163\n",
       "deposit_typeNon Refund          1.739040e+01 4.833661e-01  35.977700\n",
       "deposit_typeRefundable          2.176718e+01 2.709063e+00   8.034948\n",
       "days_in_waiting_list            6.232745e-02 5.777711e-03  10.787567\n",
       "customer_typeGroup             -4.950348e+00 1.519789e+00  -3.257261\n",
       "customer_typeTransient          2.642553e+00 5.763565e-01   4.584928\n",
       "customer_typeTransient-Party    5.086843e+00 6.106345e-01   8.330422\n",
       "required_car_parking_spaces     6.444939e+00 4.241600e-01  15.194593\n",
       "total_of_special_requests       2.205721e+00 1.441326e-01  15.303413\n",
       "reservation_statusNo-Show      -2.822531e+00 1.008035e+00  -2.800034\n",
       "                               pval          variable                      \n",
       "(Intercept)                     7.638999e-98 (Intercept)                   \n",
       "hotelResort Hotel               0.000000e+00 hotelResort Hotel             \n",
       "is_canceled                     2.650835e-52 is_canceled                   \n",
       "lead_time                       0.000000e+00 lead_time                     \n",
       "arrival_date_year               4.088481e-94 arrival_date_year             \n",
       "arrival_date_monthAugust        8.692811e-30 arrival_date_monthAugust      \n",
       "arrival_date_monthFebruary      3.577938e-40 arrival_date_monthFebruary    \n",
       "arrival_date_monthJanuary       5.182298e-26 arrival_date_monthJanuary     \n",
       "arrival_date_monthJuly          2.505401e-29 arrival_date_monthJuly        \n",
       "arrival_date_monthJune          2.754868e-25 arrival_date_monthJune        \n",
       "arrival_date_monthMarch         2.602824e-56 arrival_date_monthMarch       \n",
       "arrival_date_monthMay           2.105792e-36 arrival_date_monthMay         \n",
       "arrival_date_monthOctober       3.522112e-04 arrival_date_monthOctober     \n",
       "arrival_date_monthSeptember     4.007961e-12 arrival_date_monthSeptember   \n",
       "arrival_date_day_of_month       1.369432e-08 arrival_date_day_of_month     \n",
       "stays_in_weekend_nights         8.064680e-13 stays_in_weekend_nights       \n",
       "stays_in_week_nights            5.037839e-38 stays_in_week_nights          \n",
       "adults                         3.787263e-277 adults                        \n",
       "children                       8.493660e-318 children                      \n",
       "mealFB                         4.343788e-274 mealFB                        \n",
       "mealHB                          0.000000e+00 mealHB                        \n",
       "mealSC                         1.394253e-320 mealSC                        \n",
       "mealUndefined                  9.905402e-299 mealUndefined                 \n",
       "countryAND                      3.092854e-02 countryAND                    \n",
       "market_segmentComplementary    5.021367e-245 market_segmentComplementary   \n",
       "market_segmentDirect            9.006518e-10 market_segmentDirect          \n",
       "market_segmentGroups            1.937031e-02 market_segmentGroups          \n",
       "market_segmentOnline TA         1.745991e-17 market_segmentOnline TA       \n",
       "distribution_channelGDS         6.280798e-16 distribution_channelGDS       \n",
       "distribution_channelTA/TO       2.566228e-02 distribution_channelTA/TO     \n",
       "is_repeated_guest               3.657725e-94 is_repeated_guest             \n",
       "previous_cancellations          3.664463e-15 previous_cancellations        \n",
       "previous_bookings_not_canceled  1.283220e-04 previous_bookings_not_canceled\n",
       "reserved_room_typeB             1.784090e-28 reserved_room_typeB           \n",
       "reserved_room_typeC            2.237239e-118 reserved_room_typeC           \n",
       "reserved_room_typeD            1.241109e-286 reserved_room_typeD           \n",
       "reserved_room_typeE            1.275275e-183 reserved_room_typeE           \n",
       "reserved_room_typeF            2.384083e-213 reserved_room_typeF           \n",
       "reserved_room_typeG            4.130976e-185 reserved_room_typeG           \n",
       "reserved_room_typeH            2.125379e-121 reserved_room_typeH           \n",
       "reserved_room_typeL             7.821600e-04 reserved_room_typeL           \n",
       "assigned_room_typeC             6.474720e-04 assigned_room_typeC           \n",
       "assigned_room_typeE             9.435317e-12 assigned_room_typeE           \n",
       "assigned_room_typeF             9.359015e-19 assigned_room_typeF           \n",
       "assigned_room_typeG             2.753007e-17 assigned_room_typeG           \n",
       "assigned_room_typeI            4.795944e-131 assigned_room_typeI           \n",
       "assigned_room_typeK            1.020347e-107 assigned_room_typeK           \n",
       "assigned_room_typeL             2.474131e-04 assigned_room_typeL           \n",
       "booking_changes                 1.292949e-07 booking_changes               \n",
       "deposit_typeNon Refund         6.159553e-282 deposit_typeNon Refund        \n",
       "deposit_typeRefundable          9.446639e-16 deposit_typeRefundable        \n",
       "days_in_waiting_list            4.056319e-27 days_in_waiting_list          \n",
       "customer_typeGroup              1.125243e-03 customer_typeGroup            \n",
       "customer_typeTransient          4.546026e-06 customer_typeTransient        \n",
       "customer_typeTransient-Party    8.139610e-17 customer_typeTransient-Party  \n",
       "required_car_parking_spaces     4.298436e-52 required_car_parking_spaces   \n",
       "total_of_special_requests       8.146677e-53 total_of_special_requests     \n",
       "reservation_statusNo-Show       5.110542e-03 reservation_statusNo-Show     "
      ]
     },
     "metadata": {},
     "output_type": "display_data"
    }
   ],
   "source": [
    "coefs$variable <- rownames(coefs)\n",
    "coefs"
   ]
  },
  {
   "cell_type": "code",
   "execution_count": 115,
   "metadata": {},
   "outputs": [
    {
     "data": {
      "text/html": [
       "<table>\n",
       "<caption>A data.frame: 9 × 8</caption>\n",
       "<thead>\n",
       "\t<tr><th></th><th scope=col>estimate</th><th scope=col>stderror</th><th scope=col>tval</th><th scope=col>pval</th><th scope=col>variable</th><th scope=col>x</th><th scope=col>y</th><th scope=col>radius</th></tr>\n",
       "\t<tr><th></th><th scope=col>&lt;dbl&gt;</th><th scope=col>&lt;dbl&gt;</th><th scope=col>&lt;dbl&gt;</th><th scope=col>&lt;dbl&gt;</th><th scope=col>&lt;chr&gt;</th><th scope=col>&lt;dbl&gt;</th><th scope=col>&lt;dbl&gt;</th><th scope=col>&lt;dbl&gt;</th></tr>\n",
       "</thead>\n",
       "<tbody>\n",
       "\t<tr><th scope=row>assigned_room_typeI</th><td> -43.89857</td><td> 1.799994</td><td>-24.388181</td><td>4.795944e-131</td><td>assigned_room_typeI        </td><td>        NA</td><td>        NA</td><td>      NA</td></tr>\n",
       "\t<tr><th scope=row>assigned_room_typeK</th><td> -45.02833</td><td> 2.040290</td><td>-22.069568</td><td>1.020347e-107</td><td>assigned_room_typeK        </td><td>        NA</td><td>        NA</td><td>      NA</td></tr>\n",
       "\t<tr><th scope=row>reserved_room_typeG</th><td>  48.27107</td><td> 1.660658</td><td> 29.067426</td><td>4.130976e-185</td><td>reserved_room_typeG        </td><td>11.9392753</td><td>-10.586480</td><td>3.919842</td></tr>\n",
       "\t<tr><th scope=row>arrival_date_monthAugust</th><td>  50.37383</td><td> 4.442455</td><td> 11.339186</td><td> 8.692811e-30</td><td>arrival_date_monthAugust   </td><td>-1.2948869</td><td> -5.201253</td><td>4.004309</td></tr>\n",
       "\t<tr><th scope=row>reserved_room_typeL</th><td>  50.59023</td><td>15.060565</td><td>  3.359119</td><td> 7.821600e-04</td><td>reserved_room_typeL        </td><td> 0.2110199</td><td> 16.751420</td><td>4.012900</td></tr>\n",
       "\t<tr><th scope=row>countryAND</th><td>  58.19891</td><td>26.968707</td><td>  2.158016</td><td> 3.092854e-02</td><td>countryAND                 </td><td>-5.4208377</td><td>-12.412786</td><td>4.304101</td></tr>\n",
       "\t<tr><th scope=row>reserved_room_typeH</th><td>  72.30231</td><td> 3.082355</td><td> 23.456842</td><td>2.125379e-121</td><td>reserved_room_typeH        </td><td> 7.6288866</td><td>-18.163414</td><td>4.797347</td></tr>\n",
       "\t<tr><th scope=row>market_segmentComplementary</th><td> -89.00841</td><td> 2.656282</td><td>-33.508652</td><td>5.021367e-245</td><td>market_segmentComplementary</td><td>        NA</td><td>        NA</td><td>      NA</td></tr>\n",
       "\t<tr><th scope=row>assigned_room_typeL</th><td>-135.03949</td><td>36.845358</td><td> -3.665034</td><td> 2.474131e-04</td><td>assigned_room_typeL        </td><td>        NA</td><td>        NA</td><td>      NA</td></tr>\n",
       "</tbody>\n",
       "</table>\n"
      ],
      "text/latex": [
       "A data.frame: 9 × 8\n",
       "\\begin{tabular}{r|llllllll}\n",
       "  & estimate & stderror & tval & pval & variable & x & y & radius\\\\\n",
       "  & <dbl> & <dbl> & <dbl> & <dbl> & <chr> & <dbl> & <dbl> & <dbl>\\\\\n",
       "\\hline\n",
       "\tassigned\\_room\\_typeI &  -43.89857 &  1.799994 & -24.388181 & 4.795944e-131 & assigned\\_room\\_typeI         &         NA &         NA &       NA\\\\\n",
       "\tassigned\\_room\\_typeK &  -45.02833 &  2.040290 & -22.069568 & 1.020347e-107 & assigned\\_room\\_typeK         &         NA &         NA &       NA\\\\\n",
       "\treserved\\_room\\_typeG &   48.27107 &  1.660658 &  29.067426 & 4.130976e-185 & reserved\\_room\\_typeG         & 11.9392753 & -10.586480 & 3.919842\\\\\n",
       "\tarrival\\_date\\_monthAugust &   50.37383 &  4.442455 &  11.339186 &  8.692811e-30 & arrival\\_date\\_monthAugust    & -1.2948869 &  -5.201253 & 4.004309\\\\\n",
       "\treserved\\_room\\_typeL &   50.59023 & 15.060565 &   3.359119 &  7.821600e-04 & reserved\\_room\\_typeL         &  0.2110199 &  16.751420 & 4.012900\\\\\n",
       "\tcountryAND &   58.19891 & 26.968707 &   2.158016 &  3.092854e-02 & countryAND                  & -5.4208377 & -12.412786 & 4.304101\\\\\n",
       "\treserved\\_room\\_typeH &   72.30231 &  3.082355 &  23.456842 & 2.125379e-121 & reserved\\_room\\_typeH         &  7.6288866 & -18.163414 & 4.797347\\\\\n",
       "\tmarket\\_segmentComplementary &  -89.00841 &  2.656282 & -33.508652 & 5.021367e-245 & market\\_segmentComplementary &         NA &         NA &       NA\\\\\n",
       "\tassigned\\_room\\_typeL & -135.03949 & 36.845358 &  -3.665034 &  2.474131e-04 & assigned\\_room\\_typeL         &         NA &         NA &       NA\\\\\n",
       "\\end{tabular}\n"
      ],
      "text/markdown": [
       "\n",
       "A data.frame: 9 × 8\n",
       "\n",
       "| <!--/--> | estimate &lt;dbl&gt; | stderror &lt;dbl&gt; | tval &lt;dbl&gt; | pval &lt;dbl&gt; | variable &lt;chr&gt; | x &lt;dbl&gt; | y &lt;dbl&gt; | radius &lt;dbl&gt; |\n",
       "|---|---|---|---|---|---|---|---|---|\n",
       "| assigned_room_typeI |  -43.89857 |  1.799994 | -24.388181 | 4.795944e-131 | assigned_room_typeI         |         NA |         NA |       NA |\n",
       "| assigned_room_typeK |  -45.02833 |  2.040290 | -22.069568 | 1.020347e-107 | assigned_room_typeK         |         NA |         NA |       NA |\n",
       "| reserved_room_typeG |   48.27107 |  1.660658 |  29.067426 | 4.130976e-185 | reserved_room_typeG         | 11.9392753 | -10.586480 | 3.919842 |\n",
       "| arrival_date_monthAugust |   50.37383 |  4.442455 |  11.339186 |  8.692811e-30 | arrival_date_monthAugust    | -1.2948869 |  -5.201253 | 4.004309 |\n",
       "| reserved_room_typeL |   50.59023 | 15.060565 |   3.359119 |  7.821600e-04 | reserved_room_typeL         |  0.2110199 |  16.751420 | 4.012900 |\n",
       "| countryAND |   58.19891 | 26.968707 |   2.158016 |  3.092854e-02 | countryAND                  | -5.4208377 | -12.412786 | 4.304101 |\n",
       "| reserved_room_typeH |   72.30231 |  3.082355 |  23.456842 | 2.125379e-121 | reserved_room_typeH         |  7.6288866 | -18.163414 | 4.797347 |\n",
       "| market_segmentComplementary |  -89.00841 |  2.656282 | -33.508652 | 5.021367e-245 | market_segmentComplementary |         NA |         NA |       NA |\n",
       "| assigned_room_typeL | -135.03949 | 36.845358 |  -3.665034 |  2.474131e-04 | assigned_room_typeL         |         NA |         NA |       NA |\n",
       "\n"
      ],
      "text/plain": [
       "                            estimate   stderror  tval       pval         \n",
       "assigned_room_typeI          -43.89857  1.799994 -24.388181 4.795944e-131\n",
       "assigned_room_typeK          -45.02833  2.040290 -22.069568 1.020347e-107\n",
       "reserved_room_typeG           48.27107  1.660658  29.067426 4.130976e-185\n",
       "arrival_date_monthAugust      50.37383  4.442455  11.339186  8.692811e-30\n",
       "reserved_room_typeL           50.59023 15.060565   3.359119  7.821600e-04\n",
       "countryAND                    58.19891 26.968707   2.158016  3.092854e-02\n",
       "reserved_room_typeH           72.30231  3.082355  23.456842 2.125379e-121\n",
       "market_segmentComplementary  -89.00841  2.656282 -33.508652 5.021367e-245\n",
       "assigned_room_typeL         -135.03949 36.845358  -3.665034  2.474131e-04\n",
       "                            variable                    x          y         \n",
       "assigned_room_typeI         assigned_room_typeI                 NA         NA\n",
       "assigned_room_typeK         assigned_room_typeK                 NA         NA\n",
       "reserved_room_typeG         reserved_room_typeG         11.9392753 -10.586480\n",
       "arrival_date_monthAugust    arrival_date_monthAugust    -1.2948869  -5.201253\n",
       "reserved_room_typeL         reserved_room_typeL          0.2110199  16.751420\n",
       "countryAND                  countryAND                  -5.4208377 -12.412786\n",
       "reserved_room_typeH         reserved_room_typeH          7.6288866 -18.163414\n",
       "market_segmentComplementary market_segmentComplementary         NA         NA\n",
       "assigned_room_typeL         assigned_room_typeL                 NA         NA\n",
       "                            radius  \n",
       "assigned_room_typeI               NA\n",
       "assigned_room_typeK               NA\n",
       "reserved_room_typeG         3.919842\n",
       "arrival_date_monthAugust    4.004309\n",
       "reserved_room_typeL         4.012900\n",
       "countryAND                  4.304101\n",
       "reserved_room_typeH         4.797347\n",
       "market_segmentComplementary       NA\n",
       "assigned_room_typeL               NA"
      ]
     },
     "metadata": {},
     "output_type": "display_data"
    }
   ],
   "source": [
    "coefs %>% arrange(abs(estimate)) %>% tail(10) %>% filter(variable != \"(Intercept)\")"
   ]
  },
  {
   "cell_type": "code",
   "execution_count": 92,
   "metadata": {},
   "outputs": [
    {
     "data": {
      "image/png": "[encoded data removed]",
      "text/plain": [
       "plot without title"
      ]
     },
     "metadata": {
      "image/png": {
       "height": 420,
       "width": 420
      }
     },
     "output_type": "display_data"
    }
   ],
   "source": [
    "(\n",
    "    ggplot(coefs %>% filter(grepl(\"room\",variable))\n",
    "           ,aes(x=variable, y=estimate , fill= estimate > 0)) +\n",
    "    geom_col() + \n",
    "    scale_fill_discrete(guide=F) +\n",
    "    coord_flip()\n",
    ")"
   ]
  },
  {
   "cell_type": "code",
   "execution_count": 103,
   "metadata": {},
   "outputs": [
    {
     "data": {
      "text/html": [
       "<table>\n",
       "<caption>A data.frame: 9 × 8</caption>\n",
       "<thead>\n",
       "\t<tr><th></th><th scope=col>estimate</th><th scope=col>stderror</th><th scope=col>tval</th><th scope=col>pval</th><th scope=col>variable</th><th scope=col>x</th><th scope=col>y</th><th scope=col>radius</th></tr>\n",
       "\t<tr><th></th><th scope=col>&lt;dbl&gt;</th><th scope=col>&lt;dbl&gt;</th><th scope=col>&lt;dbl&gt;</th><th scope=col>&lt;dbl&gt;</th><th scope=col>&lt;fct&gt;</th><th scope=col>&lt;dbl&gt;</th><th scope=col>&lt;dbl&gt;</th><th scope=col>&lt;dbl&gt;</th></tr>\n",
       "</thead>\n",
       "<tbody>\n",
       "\t<tr><th scope=row>arrival_date_monthAugust</th><td> 50.37383</td><td>4.442455</td><td> 11.339186</td><td>8.692811e-30</td><td>August   </td><td>-1.2948869</td><td>-5.2012531</td><td>4.004309</td></tr>\n",
       "\t<tr><th scope=row>arrival_date_monthFebruary</th><td>-29.47524</td><td>2.220804</td><td>-13.272327</td><td>3.577938e-40</td><td>February </td><td>        NA</td><td>        NA</td><td>      NA</td></tr>\n",
       "\t<tr><th scope=row>arrival_date_monthJanuary</th><td>-35.25729</td><td>3.341732</td><td>-10.550607</td><td>5.182298e-26</td><td>January  </td><td>        NA</td><td>        NA</td><td>      NA</td></tr>\n",
       "\t<tr><th scope=row>arrival_date_monthJuly</th><td> 37.33234</td><td>3.319591</td><td> 11.246068</td><td>2.505401e-29</td><td>July     </td><td>-5.7823698</td><td> 0.7474963</td><td>3.447210</td></tr>\n",
       "\t<tr><th scope=row>arrival_date_monthJune</th><td> 23.58299</td><td>2.269269</td><td> 10.392330</td><td>2.754868e-25</td><td>June     </td><td>-0.6075054</td><td> 4.1387069</td><td>2.739836</td></tr>\n",
       "\t<tr><th scope=row>arrival_date_monthMarch</th><td>-19.28889</td><td>1.219305</td><td>-15.819574</td><td>2.602824e-56</td><td>March    </td><td>        NA</td><td>        NA</td><td>      NA</td></tr>\n",
       "\t<tr><th scope=row>arrival_date_monthMay</th><td> 14.97463</td><td>1.188044</td><td> 12.604437</td><td>2.105792e-36</td><td>May      </td><td> 4.3151491</td><td> 4.0736937</td><td>2.183248</td></tr>\n",
       "\t<tr><th scope=row>arrival_date_monthOctober</th><td> 23.81957</td><td>6.665379</td><td>  3.573626</td><td>3.522112e-04</td><td>October  </td><td> 7.4331982</td><td> 0.2462029</td><td>2.753544</td></tr>\n",
       "\t<tr><th scope=row>arrival_date_monthSeptember</th><td> 38.65349</td><td>5.571581</td><td>  6.937616</td><td>4.007961e-12</td><td>September</td><td> 6.1855075</td><td>-5.8894418</td><td>3.507675</td></tr>\n",
       "</tbody>\n",
       "</table>\n"
      ],
      "text/latex": [
       "A data.frame: 9 × 8\n",
       "\\begin{tabular}{r|llllllll}\n",
       "  & estimate & stderror & tval & pval & variable & x & y & radius\\\\\n",
       "  & <dbl> & <dbl> & <dbl> & <dbl> & <fct> & <dbl> & <dbl> & <dbl>\\\\\n",
       "\\hline\n",
       "\tarrival\\_date\\_monthAugust &  50.37383 & 4.442455 &  11.339186 & 8.692811e-30 & August    & -1.2948869 & -5.2012531 & 4.004309\\\\\n",
       "\tarrival\\_date\\_monthFebruary & -29.47524 & 2.220804 & -13.272327 & 3.577938e-40 & February  &         NA &         NA &       NA\\\\\n",
       "\tarrival\\_date\\_monthJanuary & -35.25729 & 3.341732 & -10.550607 & 5.182298e-26 & January   &         NA &         NA &       NA\\\\\n",
       "\tarrival\\_date\\_monthJuly &  37.33234 & 3.319591 &  11.246068 & 2.505401e-29 & July      & -5.7823698 &  0.7474963 & 3.447210\\\\\n",
       "\tarrival\\_date\\_monthJune &  23.58299 & 2.269269 &  10.392330 & 2.754868e-25 & June      & -0.6075054 &  4.1387069 & 2.739836\\\\\n",
       "\tarrival\\_date\\_monthMarch & -19.28889 & 1.219305 & -15.819574 & 2.602824e-56 & March     &         NA &         NA &       NA\\\\\n",
       "\tarrival\\_date\\_monthMay &  14.97463 & 1.188044 &  12.604437 & 2.105792e-36 & May       &  4.3151491 &  4.0736937 & 2.183248\\\\\n",
       "\tarrival\\_date\\_monthOctober &  23.81957 & 6.665379 &   3.573626 & 3.522112e-04 & October   &  7.4331982 &  0.2462029 & 2.753544\\\\\n",
       "\tarrival\\_date\\_monthSeptember &  38.65349 & 5.571581 &   6.937616 & 4.007961e-12 & September &  6.1855075 & -5.8894418 & 3.507675\\\\\n",
       "\\end{tabular}\n"
      ],
      "text/markdown": [
       "\n",
       "A data.frame: 9 × 8\n",
       "\n",
       "| <!--/--> | estimate &lt;dbl&gt; | stderror &lt;dbl&gt; | tval &lt;dbl&gt; | pval &lt;dbl&gt; | variable &lt;fct&gt; | x &lt;dbl&gt; | y &lt;dbl&gt; | radius &lt;dbl&gt; |\n",
       "|---|---|---|---|---|---|---|---|---|\n",
       "| arrival_date_monthAugust |  50.37383 | 4.442455 |  11.339186 | 8.692811e-30 | August    | -1.2948869 | -5.2012531 | 4.004309 |\n",
       "| arrival_date_monthFebruary | -29.47524 | 2.220804 | -13.272327 | 3.577938e-40 | February  |         NA |         NA |       NA |\n",
       "| arrival_date_monthJanuary | -35.25729 | 3.341732 | -10.550607 | 5.182298e-26 | January   |         NA |         NA |       NA |\n",
       "| arrival_date_monthJuly |  37.33234 | 3.319591 |  11.246068 | 2.505401e-29 | July      | -5.7823698 |  0.7474963 | 3.447210 |\n",
       "| arrival_date_monthJune |  23.58299 | 2.269269 |  10.392330 | 2.754868e-25 | June      | -0.6075054 |  4.1387069 | 2.739836 |\n",
       "| arrival_date_monthMarch | -19.28889 | 1.219305 | -15.819574 | 2.602824e-56 | March     |         NA |         NA |       NA |\n",
       "| arrival_date_monthMay |  14.97463 | 1.188044 |  12.604437 | 2.105792e-36 | May       |  4.3151491 |  4.0736937 | 2.183248 |\n",
       "| arrival_date_monthOctober |  23.81957 | 6.665379 |   3.573626 | 3.522112e-04 | October   |  7.4331982 |  0.2462029 | 2.753544 |\n",
       "| arrival_date_monthSeptember |  38.65349 | 5.571581 |   6.937616 | 4.007961e-12 | September |  6.1855075 | -5.8894418 | 3.507675 |\n",
       "\n"
      ],
      "text/plain": [
       "                            estimate  stderror tval       pval        \n",
       "arrival_date_monthAugust     50.37383 4.442455  11.339186 8.692811e-30\n",
       "arrival_date_monthFebruary  -29.47524 2.220804 -13.272327 3.577938e-40\n",
       "arrival_date_monthJanuary   -35.25729 3.341732 -10.550607 5.182298e-26\n",
       "arrival_date_monthJuly       37.33234 3.319591  11.246068 2.505401e-29\n",
       "arrival_date_monthJune       23.58299 2.269269  10.392330 2.754868e-25\n",
       "arrival_date_monthMarch     -19.28889 1.219305 -15.819574 2.602824e-56\n",
       "arrival_date_monthMay        14.97463 1.188044  12.604437 2.105792e-36\n",
       "arrival_date_monthOctober    23.81957 6.665379   3.573626 3.522112e-04\n",
       "arrival_date_monthSeptember  38.65349 5.571581   6.937616 4.007961e-12\n",
       "                            variable  x          y          radius  \n",
       "arrival_date_monthAugust    August    -1.2948869 -5.2012531 4.004309\n",
       "arrival_date_monthFebruary  February          NA         NA       NA\n",
       "arrival_date_monthJanuary   January           NA         NA       NA\n",
       "arrival_date_monthJuly      July      -5.7823698  0.7474963 3.447210\n",
       "arrival_date_monthJune      June      -0.6075054  4.1387069 2.739836\n",
       "arrival_date_monthMarch     March             NA         NA       NA\n",
       "arrival_date_monthMay       May        4.3151491  4.0736937 2.183248\n",
       "arrival_date_monthOctober   October    7.4331982  0.2462029 2.753544\n",
       "arrival_date_monthSeptember September  6.1855075 -5.8894418 3.507675"
      ]
     },
     "metadata": {},
     "output_type": "display_data"
    }
   ],
   "source": [
    "month_coefs <- coefs %>% filter(grepl(\"arrival_date_month\",variable))\n",
    "month_coefs$variable <- str_replace(month_coefs$variable , \"arrival_date_month\" , \"\")\n",
    "month_coefs$variable <- month_coefs$variable %>% factor( levels=c(\"January\", \"February\", \"March\", \"April\",\"May\",\"June\",\"July\",\"August\",\"September\",\"October\",\"November\",\"December\")) \n",
    "month_coefs"
   ]
  },
  {
   "cell_type": "code",
   "execution_count": 105,
   "metadata": {},
   "outputs": [
    {
     "data": {
      "image/png": "[encoded data removed]",
      "text/plain": [
       "plot without title"
      ]
     },
     "metadata": {
      "image/png": {
       "height": 420,
       "width": 420
      }
     },
     "output_type": "display_data"
    }
   ],
   "source": [
    "(\n",
    "    ggplot(month_coefs\n",
    "           ,aes(x=variable, y=estimate , fill= estimate > 0)) +\n",
    "    geom_col() + \n",
    "    scale_fill_discrete(guide=F) \n",
    ")"
   ]
  },
  {
   "cell_type": "code",
   "execution_count": 108,
   "metadata": {},
   "outputs": [
    {
     "data": {
      "text/html": [
       "<table>\n",
       "<caption>A data.frame: 5 × 8</caption>\n",
       "<thead>\n",
       "\t<tr><th></th><th scope=col>estimate</th><th scope=col>stderror</th><th scope=col>tval</th><th scope=col>pval</th><th scope=col>variable</th><th scope=col>x</th><th scope=col>y</th><th scope=col>radius</th></tr>\n",
       "\t<tr><th></th><th scope=col>&lt;dbl&gt;</th><th scope=col>&lt;dbl&gt;</th><th scope=col>&lt;dbl&gt;</th><th scope=col>&lt;dbl&gt;</th><th scope=col>&lt;chr&gt;</th><th scope=col>&lt;dbl&gt;</th><th scope=col>&lt;dbl&gt;</th><th scope=col>&lt;dbl&gt;</th></tr>\n",
       "</thead>\n",
       "<tbody>\n",
       "\t<tr><th scope=row>adults</th><td>  6.639576</td><td>0.1861556</td><td> 35.66681</td><td>3.787263e-277</td><td>adults  </td><td>-4.136456</td><td>6.404280</td><td>1.453768</td></tr>\n",
       "\t<tr><th scope=row>children</th><td> 12.528691</td><td>0.3277419</td><td> 38.22731</td><td>8.493660e-318</td><td>children</td><td>-1.620460</td><td>8.765966</td><td>1.996999</td></tr>\n",
       "\t<tr><th scope=row>mealFB</th><td> 43.826682</td><td>1.2357103</td><td> 35.46679</td><td>4.343788e-274</td><td>mealFB  </td><td> 3.980982</td><td>9.982532</td><td>3.735032</td></tr>\n",
       "\t<tr><th scope=row>mealHB</th><td> 26.931587</td><td>0.3253242</td><td> 82.78383</td><td> 0.000000e+00</td><td>mealHB  </td><td>-8.516935</td><td>6.506329</td><td>2.927899</td></tr>\n",
       "\t<tr><th scope=row>mealSC</th><td>-14.881648</td><td>0.3875770</td><td>-38.39662</td><td>1.394253e-320</td><td>mealSC  </td><td>       NA</td><td>      NA</td><td>      NA</td></tr>\n",
       "</tbody>\n",
       "</table>\n"
      ],
      "text/latex": [
       "A data.frame: 5 × 8\n",
       "\\begin{tabular}{r|llllllll}\n",
       "  & estimate & stderror & tval & pval & variable & x & y & radius\\\\\n",
       "  & <dbl> & <dbl> & <dbl> & <dbl> & <chr> & <dbl> & <dbl> & <dbl>\\\\\n",
       "\\hline\n",
       "\tadults &   6.639576 & 0.1861556 &  35.66681 & 3.787263e-277 & adults   & -4.136456 & 6.404280 & 1.453768\\\\\n",
       "\tchildren &  12.528691 & 0.3277419 &  38.22731 & 8.493660e-318 & children & -1.620460 & 8.765966 & 1.996999\\\\\n",
       "\tmealFB &  43.826682 & 1.2357103 &  35.46679 & 4.343788e-274 & mealFB   &  3.980982 & 9.982532 & 3.735032\\\\\n",
       "\tmealHB &  26.931587 & 0.3253242 &  82.78383 &  0.000000e+00 & mealHB   & -8.516935 & 6.506329 & 2.927899\\\\\n",
       "\tmealSC & -14.881648 & 0.3875770 & -38.39662 & 1.394253e-320 & mealSC   &        NA &       NA &       NA\\\\\n",
       "\\end{tabular}\n"
      ],
      "text/markdown": [
       "\n",
       "A data.frame: 5 × 8\n",
       "\n",
       "| <!--/--> | estimate &lt;dbl&gt; | stderror &lt;dbl&gt; | tval &lt;dbl&gt; | pval &lt;dbl&gt; | variable &lt;chr&gt; | x &lt;dbl&gt; | y &lt;dbl&gt; | radius &lt;dbl&gt; |\n",
       "|---|---|---|---|---|---|---|---|---|\n",
       "| adults |   6.639576 | 0.1861556 |  35.66681 | 3.787263e-277 | adults   | -4.136456 | 6.404280 | 1.453768 |\n",
       "| children |  12.528691 | 0.3277419 |  38.22731 | 8.493660e-318 | children | -1.620460 | 8.765966 | 1.996999 |\n",
       "| mealFB |  43.826682 | 1.2357103 |  35.46679 | 4.343788e-274 | mealFB   |  3.980982 | 9.982532 | 3.735032 |\n",
       "| mealHB |  26.931587 | 0.3253242 |  82.78383 |  0.000000e+00 | mealHB   | -8.516935 | 6.506329 | 2.927899 |\n",
       "| mealSC | -14.881648 | 0.3875770 | -38.39662 | 1.394253e-320 | mealSC   |        NA |       NA |       NA |\n",
       "\n"
      ],
      "text/plain": [
       "         estimate   stderror  tval      pval          variable x        \n",
       "adults     6.639576 0.1861556  35.66681 3.787263e-277 adults   -4.136456\n",
       "children  12.528691 0.3277419  38.22731 8.493660e-318 children -1.620460\n",
       "mealFB    43.826682 1.2357103  35.46679 4.343788e-274 mealFB    3.980982\n",
       "mealHB    26.931587 0.3253242  82.78383  0.000000e+00 mealHB   -8.516935\n",
       "mealSC   -14.881648 0.3875770 -38.39662 1.394253e-320 mealSC          NA\n",
       "         y        radius  \n",
       "adults   6.404280 1.453768\n",
       "children 8.765966 1.996999\n",
       "mealFB   9.982532 3.735032\n",
       "mealHB   6.506329 2.927899\n",
       "mealSC         NA       NA"
      ]
     },
     "metadata": {},
     "output_type": "display_data"
    }
   ],
   "source": [
    "coefs %>% filter(variable %in% c(\"adults\" , \"children\",\"mealFB\" , \"mealHB\" , \"mealSC\"))"
   ]
  },
  {
   "cell_type": "code",
   "execution_count": 76,
   "metadata": {},
   "outputs": [],
   "source": [
    "library(packcircles)\n",
    "library(ggplot2)\n",
    "library(viridis)\n",
    "library(ggiraph)"
   ]
  },
  {
   "cell_type": "code",
   "execution_count": 84,
   "metadata": {},
   "outputs": [],
   "source": [
    "create_packing_plot <- function(df){\n",
    "        \n",
    "    packing <- circleProgressiveLayout(df$estimate, sizetype='area')\n",
    "    coefs <- cbind(df, packing)\n",
    "    dat.gg <- circleLayoutVertices(packing, npoints=50)\n",
    "    \n",
    "    (\n",
    "        ggplot(df, aes(x=x,  y=y , size=radius)) + \n",
    "        geom_point() +\n",
    "        geom_text(aes(label=variable))\n",
    "    )\n",
    "}\n"
   ]
  },
  {
   "cell_type": "code",
   "execution_count": 85,
   "metadata": {},
   "outputs": [
    {
     "name": "stderr",
     "output_type": "stream",
     "text": [
      "Warning message in circleProgressiveLayout(df$estimate, sizetype = \"area\"):\n",
      "\"missing and/or non-positive sizes will be ignored\"\n",
      "Warning message:\n",
      "\"Removed 4 rows containing missing values (geom_point).\"\n",
      "Warning message:\n",
      "\"Removed 4 rows containing missing values (geom_text).\"\n"
     ]
    },
    {
     "data": {
      "image/png": "[encoded data removed]",
      "text/plain": [
       "plot without title"
      ]
     },
     "metadata": {
      "image/png": {
       "height": 420,
       "width": 420
      }
     },
     "output_type": "display_data"
    }
   ],
   "source": [
    "create_packing_plot(coefs %>% filter(grepl(\"room\",variable)))"
   ]
  },
  {
   "cell_type": "code",
   "execution_count": 78,
   "metadata": {},
   "outputs": [],
   "source": [
    "coefs <- cbind(coefs, packing)\n",
    "dat.gg <- circleLayoutVertices(packing, npoints=50)"
   ]
  },
  {
   "cell_type": "code",
   "execution_count": 79,
   "metadata": {},
   "outputs": [
    {
     "name": "stderr",
     "output_type": "stream",
     "text": [
      "Warning message:\n",
      "\"Removed 20 rows containing missing values (geom_point).\"\n",
      "Warning message:\n",
      "\"Removed 20 rows containing missing values (geom_text).\"\n"
     ]
    },
    {
     "data": {
      "image/png": "[encoded data removed]",
      "text/plain": [
       "plot without title"
      ]
     },
     "metadata": {
      "image/png": {
       "height": 420,
       "width": 420
      }
     },
     "output_type": "display_data"
    }
   ],
   "source": [
    "(\n",
    "    ggplot(coefs, aes(x=x,  y=y , size=radius)) + \n",
    "    geom_point() +\n",
    "    geom_text(aes(label=variable))\n",
    ")"
   ]
  },
  {
   "cell_type": "code",
   "execution_count": null,
   "metadata": {},
   "outputs": [],
   "source": []
  }
 ],
 "metadata": {
  "kernelspec": {
   "display_name": "R",
   "language": "R",
   "name": "ir"
  },
  "language_info": {
   "codemirror_mode": "r",
   "file_extension": ".r",
   "mimetype": "text/x-r-source",
   "name": "R",
   "pygments_lexer": "r",
   "version": "4.0.0"
  }
 },
 "nbformat": 4,
 "nbformat_minor": 2
}

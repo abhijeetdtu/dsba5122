{
 "cells": [
  {
   "cell_type": "code",
   "execution_count": 1,
   "metadata": {},
   "outputs": [
    {
     "name": "stderr",
     "output_type": "stream",
     "text": [
      "Parsed with column specification:\n",
      "cols(\n",
      "  .default = col_double(),\n",
      "  hotel = \u001b[31mcol_character()\u001b[39m,\n",
      "  arrival_date_month = \u001b[31mcol_character()\u001b[39m,\n",
      "  meal = \u001b[31mcol_character()\u001b[39m,\n",
      "  country = \u001b[31mcol_character()\u001b[39m,\n",
      "  market_segment = \u001b[31mcol_character()\u001b[39m,\n",
      "  distribution_channel = \u001b[31mcol_character()\u001b[39m,\n",
      "  reserved_room_type = \u001b[31mcol_character()\u001b[39m,\n",
      "  assigned_room_type = \u001b[31mcol_character()\u001b[39m,\n",
      "  deposit_type = \u001b[31mcol_character()\u001b[39m,\n",
      "  agent = \u001b[31mcol_character()\u001b[39m,\n",
      "  company = \u001b[31mcol_character()\u001b[39m,\n",
      "  customer_type = \u001b[31mcol_character()\u001b[39m,\n",
      "  reservation_status = \u001b[31mcol_character()\u001b[39m,\n",
      "  reservation_status_date = \u001b[34mcol_date(format = \"\")\u001b[39m\n",
      ")\n",
      "\n",
      "See spec(...) for full column specifications.\n",
      "\n"
     ]
    }
   ],
   "source": [
    "df <- readr::read_csv('hotels.csv')"
   ]
  },
  {
   "cell_type": "code",
   "execution_count": 2,
   "metadata": {},
   "outputs": [
    {
     "data": {
      "text/html": [
       "<table>\n",
       "<caption>A tibble: 6 × 32</caption>\n",
       "<thead>\n",
       "\t<tr><th scope=col>hotel</th><th scope=col>is_canceled</th><th scope=col>lead_time</th><th scope=col>arrival_date_year</th><th scope=col>arrival_date_month</th><th scope=col>arrival_date_week_number</th><th scope=col>arrival_date_day_of_month</th><th scope=col>stays_in_weekend_nights</th><th scope=col>stays_in_week_nights</th><th scope=col>adults</th><th scope=col>...</th><th scope=col>deposit_type</th><th scope=col>agent</th><th scope=col>company</th><th scope=col>days_in_waiting_list</th><th scope=col>customer_type</th><th scope=col>adr</th><th scope=col>required_car_parking_spaces</th><th scope=col>total_of_special_requests</th><th scope=col>reservation_status</th><th scope=col>reservation_status_date</th></tr>\n",
       "\t<tr><th scope=col>&lt;chr&gt;</th><th scope=col>&lt;dbl&gt;</th><th scope=col>&lt;dbl&gt;</th><th scope=col>&lt;dbl&gt;</th><th scope=col>&lt;chr&gt;</th><th scope=col>&lt;dbl&gt;</th><th scope=col>&lt;dbl&gt;</th><th scope=col>&lt;dbl&gt;</th><th scope=col>&lt;dbl&gt;</th><th scope=col>&lt;dbl&gt;</th><th scope=col>...</th><th scope=col>&lt;chr&gt;</th><th scope=col>&lt;chr&gt;</th><th scope=col>&lt;chr&gt;</th><th scope=col>&lt;dbl&gt;</th><th scope=col>&lt;chr&gt;</th><th scope=col>&lt;dbl&gt;</th><th scope=col>&lt;dbl&gt;</th><th scope=col>&lt;dbl&gt;</th><th scope=col>&lt;chr&gt;</th><th scope=col>&lt;date&gt;</th></tr>\n",
       "</thead>\n",
       "<tbody>\n",
       "\t<tr><td>Resort Hotel</td><td>0</td><td>342</td><td>2015</td><td>July</td><td>27</td><td>1</td><td>0</td><td>0</td><td>2</td><td>...</td><td>No Deposit</td><td>NULL</td><td>NULL</td><td>0</td><td>Transient</td><td> 0</td><td>0</td><td>0</td><td>Check-Out</td><td>2015-07-01</td></tr>\n",
       "\t<tr><td>Resort Hotel</td><td>0</td><td>737</td><td>2015</td><td>July</td><td>27</td><td>1</td><td>0</td><td>0</td><td>2</td><td>...</td><td>No Deposit</td><td>NULL</td><td>NULL</td><td>0</td><td>Transient</td><td> 0</td><td>0</td><td>0</td><td>Check-Out</td><td>2015-07-01</td></tr>\n",
       "\t<tr><td>Resort Hotel</td><td>0</td><td>  7</td><td>2015</td><td>July</td><td>27</td><td>1</td><td>0</td><td>1</td><td>1</td><td>...</td><td>No Deposit</td><td>NULL</td><td>NULL</td><td>0</td><td>Transient</td><td>75</td><td>0</td><td>0</td><td>Check-Out</td><td>2015-07-02</td></tr>\n",
       "\t<tr><td>Resort Hotel</td><td>0</td><td> 13</td><td>2015</td><td>July</td><td>27</td><td>1</td><td>0</td><td>1</td><td>1</td><td>...</td><td>No Deposit</td><td>304 </td><td>NULL</td><td>0</td><td>Transient</td><td>75</td><td>0</td><td>0</td><td>Check-Out</td><td>2015-07-02</td></tr>\n",
       "\t<tr><td>Resort Hotel</td><td>0</td><td> 14</td><td>2015</td><td>July</td><td>27</td><td>1</td><td>0</td><td>2</td><td>2</td><td>...</td><td>No Deposit</td><td>240 </td><td>NULL</td><td>0</td><td>Transient</td><td>98</td><td>0</td><td>1</td><td>Check-Out</td><td>2015-07-03</td></tr>\n",
       "\t<tr><td>Resort Hotel</td><td>0</td><td> 14</td><td>2015</td><td>July</td><td>27</td><td>1</td><td>0</td><td>2</td><td>2</td><td>...</td><td>No Deposit</td><td>240 </td><td>NULL</td><td>0</td><td>Transient</td><td>98</td><td>0</td><td>1</td><td>Check-Out</td><td>2015-07-03</td></tr>\n",
       "</tbody>\n",
       "</table>\n"
      ],
      "text/latex": [
       "A tibble: 6 × 32\n",
       "\\begin{tabular}{lllllllllllllllllllll}\n",
       " hotel & is\\_canceled & lead\\_time & arrival\\_date\\_year & arrival\\_date\\_month & arrival\\_date\\_week\\_number & arrival\\_date\\_day\\_of\\_month & stays\\_in\\_weekend\\_nights & stays\\_in\\_week\\_nights & adults & ... & deposit\\_type & agent & company & days\\_in\\_waiting\\_list & customer\\_type & adr & required\\_car\\_parking\\_spaces & total\\_of\\_special\\_requests & reservation\\_status & reservation\\_status\\_date\\\\\n",
       " <chr> & <dbl> & <dbl> & <dbl> & <chr> & <dbl> & <dbl> & <dbl> & <dbl> & <dbl> & ... & <chr> & <chr> & <chr> & <dbl> & <chr> & <dbl> & <dbl> & <dbl> & <chr> & <date>\\\\\n",
       "\\hline\n",
       "\t Resort Hotel & 0 & 342 & 2015 & July & 27 & 1 & 0 & 0 & 2 & ... & No Deposit & NULL & NULL & 0 & Transient &  0 & 0 & 0 & Check-Out & 2015-07-01\\\\\n",
       "\t Resort Hotel & 0 & 737 & 2015 & July & 27 & 1 & 0 & 0 & 2 & ... & No Deposit & NULL & NULL & 0 & Transient &  0 & 0 & 0 & Check-Out & 2015-07-01\\\\\n",
       "\t Resort Hotel & 0 &   7 & 2015 & July & 27 & 1 & 0 & 1 & 1 & ... & No Deposit & NULL & NULL & 0 & Transient & 75 & 0 & 0 & Check-Out & 2015-07-02\\\\\n",
       "\t Resort Hotel & 0 &  13 & 2015 & July & 27 & 1 & 0 & 1 & 1 & ... & No Deposit & 304  & NULL & 0 & Transient & 75 & 0 & 0 & Check-Out & 2015-07-02\\\\\n",
       "\t Resort Hotel & 0 &  14 & 2015 & July & 27 & 1 & 0 & 2 & 2 & ... & No Deposit & 240  & NULL & 0 & Transient & 98 & 0 & 1 & Check-Out & 2015-07-03\\\\\n",
       "\t Resort Hotel & 0 &  14 & 2015 & July & 27 & 1 & 0 & 2 & 2 & ... & No Deposit & 240  & NULL & 0 & Transient & 98 & 0 & 1 & Check-Out & 2015-07-03\\\\\n",
       "\\end{tabular}\n"
      ],
      "text/markdown": [
       "\n",
       "A tibble: 6 × 32\n",
       "\n",
       "| hotel &lt;chr&gt; | is_canceled &lt;dbl&gt; | lead_time &lt;dbl&gt; | arrival_date_year &lt;dbl&gt; | arrival_date_month &lt;chr&gt; | arrival_date_week_number &lt;dbl&gt; | arrival_date_day_of_month &lt;dbl&gt; | stays_in_weekend_nights &lt;dbl&gt; | stays_in_week_nights &lt;dbl&gt; | adults &lt;dbl&gt; | ... ... | deposit_type &lt;chr&gt; | agent &lt;chr&gt; | company &lt;chr&gt; | days_in_waiting_list &lt;dbl&gt; | customer_type &lt;chr&gt; | adr &lt;dbl&gt; | required_car_parking_spaces &lt;dbl&gt; | total_of_special_requests &lt;dbl&gt; | reservation_status &lt;chr&gt; | reservation_status_date &lt;date&gt; |\n",
       "|---|---|---|---|---|---|---|---|---|---|---|---|---|---|---|---|---|---|---|---|---|\n",
       "| Resort Hotel | 0 | 342 | 2015 | July | 27 | 1 | 0 | 0 | 2 | ... | No Deposit | NULL | NULL | 0 | Transient |  0 | 0 | 0 | Check-Out | 2015-07-01 |\n",
       "| Resort Hotel | 0 | 737 | 2015 | July | 27 | 1 | 0 | 0 | 2 | ... | No Deposit | NULL | NULL | 0 | Transient |  0 | 0 | 0 | Check-Out | 2015-07-01 |\n",
       "| Resort Hotel | 0 |   7 | 2015 | July | 27 | 1 | 0 | 1 | 1 | ... | No Deposit | NULL | NULL | 0 | Transient | 75 | 0 | 0 | Check-Out | 2015-07-02 |\n",
       "| Resort Hotel | 0 |  13 | 2015 | July | 27 | 1 | 0 | 1 | 1 | ... | No Deposit | 304  | NULL | 0 | Transient | 75 | 0 | 0 | Check-Out | 2015-07-02 |\n",
       "| Resort Hotel | 0 |  14 | 2015 | July | 27 | 1 | 0 | 2 | 2 | ... | No Deposit | 240  | NULL | 0 | Transient | 98 | 0 | 1 | Check-Out | 2015-07-03 |\n",
       "| Resort Hotel | 0 |  14 | 2015 | July | 27 | 1 | 0 | 2 | 2 | ... | No Deposit | 240  | NULL | 0 | Transient | 98 | 0 | 1 | Check-Out | 2015-07-03 |\n",
       "\n"
      ],
      "text/plain": [
       "  hotel        is_canceled lead_time arrival_date_year arrival_date_month\n",
       "1 Resort Hotel 0           342       2015              July              \n",
       "2 Resort Hotel 0           737       2015              July              \n",
       "3 Resort Hotel 0             7       2015              July              \n",
       "4 Resort Hotel 0            13       2015              July              \n",
       "5 Resort Hotel 0            14       2015              July              \n",
       "6 Resort Hotel 0            14       2015              July              \n",
       "  arrival_date_week_number arrival_date_day_of_month stays_in_weekend_nights\n",
       "1 27                       1                         0                      \n",
       "2 27                       1                         0                      \n",
       "3 27                       1                         0                      \n",
       "4 27                       1                         0                      \n",
       "5 27                       1                         0                      \n",
       "6 27                       1                         0                      \n",
       "  stays_in_week_nights adults ... deposit_type agent company\n",
       "1 0                    2      ... No Deposit   NULL  NULL   \n",
       "2 0                    2      ... No Deposit   NULL  NULL   \n",
       "3 1                    1      ... No Deposit   NULL  NULL   \n",
       "4 1                    1      ... No Deposit   304   NULL   \n",
       "5 2                    2      ... No Deposit   240   NULL   \n",
       "6 2                    2      ... No Deposit   240   NULL   \n",
       "  days_in_waiting_list customer_type adr required_car_parking_spaces\n",
       "1 0                    Transient      0  0                          \n",
       "2 0                    Transient      0  0                          \n",
       "3 0                    Transient     75  0                          \n",
       "4 0                    Transient     75  0                          \n",
       "5 0                    Transient     98  0                          \n",
       "6 0                    Transient     98  0                          \n",
       "  total_of_special_requests reservation_status reservation_status_date\n",
       "1 0                         Check-Out          2015-07-01             \n",
       "2 0                         Check-Out          2015-07-01             \n",
       "3 0                         Check-Out          2015-07-02             \n",
       "4 0                         Check-Out          2015-07-02             \n",
       "5 1                         Check-Out          2015-07-03             \n",
       "6 1                         Check-Out          2015-07-03             "
      ]
     },
     "metadata": {},
     "output_type": "display_data"
    }
   ],
   "source": [
    "head(df)"
   ]
  },
  {
   "cell_type": "code",
   "execution_count": 3,
   "metadata": {},
   "outputs": [
    {
     "name": "stderr",
     "output_type": "stream",
     "text": [
      "Warning message:\n",
      "\"package 'dplyr' was built under R version 4.0.2\"\n",
      "\n",
      "Attaching package: 'dplyr'\n",
      "\n",
      "\n",
      "The following objects are masked from 'package:stats':\n",
      "\n",
      "    filter, lag\n",
      "\n",
      "\n",
      "The following objects are masked from 'package:base':\n",
      "\n",
      "    intersect, setdiff, setequal, union\n",
      "\n",
      "\n",
      "Warning message:\n",
      "\"package 'tidyr' was built under R version 4.0.3\"\n"
     ]
    }
   ],
   "source": [
    "library(ggplot2)\n",
    "library(dplyr)\n",
    "library(tidyr)\n",
    "library(ggrepel)"
   ]
  },
  {
   "cell_type": "code",
   "execution_count": 56,
   "metadata": {},
   "outputs": [
    {
     "name": "stderr",
     "output_type": "stream",
     "text": [
      "`summarise()` regrouping output by 'arrival_date_year', 'hotel' (override with `.groups` argument)\n",
      "\n"
     ]
    },
    {
     "data": {
      "text/html": [
       "<table>\n",
       "<caption>A grouped_df: 12 × 5</caption>\n",
       "<thead>\n",
       "\t<tr><th scope=col>arrival_date_year</th><th scope=col>hotel</th><th scope=col>is_canceled</th><th scope=col>count</th><th scope=col>ratio</th></tr>\n",
       "\t<tr><th scope=col>&lt;dbl&gt;</th><th scope=col>&lt;chr&gt;</th><th scope=col>&lt;dbl&gt;</th><th scope=col>&lt;int&gt;</th><th scope=col>&lt;dbl&gt;</th></tr>\n",
       "</thead>\n",
       "<tbody>\n",
       "\t<tr><td>2015</td><td>City Hotel  </td><td>0</td><td> 7678</td><td>0.56</td></tr>\n",
       "\t<tr><td>2015</td><td>City Hotel  </td><td>1</td><td> 6004</td><td>0.44</td></tr>\n",
       "\t<tr><td>2015</td><td>Resort Hotel</td><td>0</td><td> 6176</td><td>0.74</td></tr>\n",
       "\t<tr><td>2015</td><td>Resort Hotel</td><td>1</td><td> 2138</td><td>0.26</td></tr>\n",
       "\t<tr><td>2016</td><td>City Hotel  </td><td>0</td><td>22733</td><td>0.60</td></tr>\n",
       "\t<tr><td>2016</td><td>City Hotel  </td><td>1</td><td>15407</td><td>0.40</td></tr>\n",
       "\t<tr><td>2016</td><td>Resort Hotel</td><td>0</td><td>13637</td><td>0.73</td></tr>\n",
       "\t<tr><td>2016</td><td>Resort Hotel</td><td>1</td><td> 4930</td><td>0.27</td></tr>\n",
       "\t<tr><td>2017</td><td>City Hotel  </td><td>0</td><td>15817</td><td>0.57</td></tr>\n",
       "\t<tr><td>2017</td><td>City Hotel  </td><td>1</td><td>11691</td><td>0.43</td></tr>\n",
       "\t<tr><td>2017</td><td>Resort Hotel</td><td>0</td><td> 9125</td><td>0.69</td></tr>\n",
       "\t<tr><td>2017</td><td>Resort Hotel</td><td>1</td><td> 4054</td><td>0.31</td></tr>\n",
       "</tbody>\n",
       "</table>\n"
      ],
      "text/latex": [
       "A grouped\\_df: 12 × 5\n",
       "\\begin{tabular}{lllll}\n",
       " arrival\\_date\\_year & hotel & is\\_canceled & count & ratio\\\\\n",
       " <dbl> & <chr> & <dbl> & <int> & <dbl>\\\\\n",
       "\\hline\n",
       "\t 2015 & City Hotel   & 0 &  7678 & 0.56\\\\\n",
       "\t 2015 & City Hotel   & 1 &  6004 & 0.44\\\\\n",
       "\t 2015 & Resort Hotel & 0 &  6176 & 0.74\\\\\n",
       "\t 2015 & Resort Hotel & 1 &  2138 & 0.26\\\\\n",
       "\t 2016 & City Hotel   & 0 & 22733 & 0.60\\\\\n",
       "\t 2016 & City Hotel   & 1 & 15407 & 0.40\\\\\n",
       "\t 2016 & Resort Hotel & 0 & 13637 & 0.73\\\\\n",
       "\t 2016 & Resort Hotel & 1 &  4930 & 0.27\\\\\n",
       "\t 2017 & City Hotel   & 0 & 15817 & 0.57\\\\\n",
       "\t 2017 & City Hotel   & 1 & 11691 & 0.43\\\\\n",
       "\t 2017 & Resort Hotel & 0 &  9125 & 0.69\\\\\n",
       "\t 2017 & Resort Hotel & 1 &  4054 & 0.31\\\\\n",
       "\\end{tabular}\n"
      ],
      "text/markdown": [
       "\n",
       "A grouped_df: 12 × 5\n",
       "\n",
       "| arrival_date_year &lt;dbl&gt; | hotel &lt;chr&gt; | is_canceled &lt;dbl&gt; | count &lt;int&gt; | ratio &lt;dbl&gt; |\n",
       "|---|---|---|---|---|\n",
       "| 2015 | City Hotel   | 0 |  7678 | 0.56 |\n",
       "| 2015 | City Hotel   | 1 |  6004 | 0.44 |\n",
       "| 2015 | Resort Hotel | 0 |  6176 | 0.74 |\n",
       "| 2015 | Resort Hotel | 1 |  2138 | 0.26 |\n",
       "| 2016 | City Hotel   | 0 | 22733 | 0.60 |\n",
       "| 2016 | City Hotel   | 1 | 15407 | 0.40 |\n",
       "| 2016 | Resort Hotel | 0 | 13637 | 0.73 |\n",
       "| 2016 | Resort Hotel | 1 |  4930 | 0.27 |\n",
       "| 2017 | City Hotel   | 0 | 15817 | 0.57 |\n",
       "| 2017 | City Hotel   | 1 | 11691 | 0.43 |\n",
       "| 2017 | Resort Hotel | 0 |  9125 | 0.69 |\n",
       "| 2017 | Resort Hotel | 1 |  4054 | 0.31 |\n",
       "\n"
      ],
      "text/plain": [
       "   arrival_date_year hotel        is_canceled count ratio\n",
       "1  2015              City Hotel   0            7678 0.56 \n",
       "2  2015              City Hotel   1            6004 0.44 \n",
       "3  2015              Resort Hotel 0            6176 0.74 \n",
       "4  2015              Resort Hotel 1            2138 0.26 \n",
       "5  2016              City Hotel   0           22733 0.60 \n",
       "6  2016              City Hotel   1           15407 0.40 \n",
       "7  2016              Resort Hotel 0           13637 0.73 \n",
       "8  2016              Resort Hotel 1            4930 0.27 \n",
       "9  2017              City Hotel   0           15817 0.57 \n",
       "10 2017              City Hotel   1           11691 0.43 \n",
       "11 2017              Resort Hotel 0            9125 0.69 \n",
       "12 2017              Resort Hotel 1            4054 0.31 "
      ]
     },
     "metadata": {},
     "output_type": "display_data"
    }
   ],
   "source": [
    "pltdf <- df %>% \n",
    "    group_by(arrival_date_year , hotel , is_canceled) %>% \n",
    "    summarise(count = n()) %>% \n",
    "    mutate(ratio=round((count/sum(count)),digits= 2) ) \n",
    " "
   ]
  },
  {
   "cell_type": "code",
   "execution_count": 86,
   "metadata": {},
   "outputs": [
    {
     "data": {
      "image/png": "[encoded data removed]",
      "text/plain": [
       "plot without title"
      ]
     },
     "metadata": {
      "image/png": {
       "height": 420,
       "width": 420
      }
     },
     "output_type": "display_data"
    }
   ],
   "source": [
    "(\n",
    "    ggplot(pltdf , aes(x=hotel , y=ratio , fill=factor(is_canceled)))\n",
    "    + geom_col(position=position_fill())\n",
    "    + facet_wrap(~ arrival_date_year)\n",
    "    + scale_y_continuous(labels=scales::percent)\n",
    "    + geom_text(aes(y = ratio, label = scales::percent(ratio , accuracy = 1)),\n",
    "                  position=position_fill(0.5), color = \"black\")\n",
    "    + scale_fill_manual(values = c(\"#95d5b2\", \"#f28482\") , name=\"Canceled ?\" , labels=c(\"No\" , \"Yes\"))\n",
    "    #+ theme(legend.title = element_text(\"Canceled ?\"))\n",
    ")"
   ]
  },
  {
   "cell_type": "code",
   "execution_count": 98,
   "metadata": {},
   "outputs": [
    {
     "name": "stderr",
     "output_type": "stream",
     "text": [
      "Warning message:\n",
      "\"package 'Rtsne' was built under R version 4.0.3\"\n"
     ]
    }
   ],
   "source": [
    "library(Rtsne)"
   ]
  },
  {
   "cell_type": "code",
   "execution_count": null,
   "metadata": {},
   "outputs": [],
   "source": [
    "sampleddf <- df[!duplicated(df) , ] %>%  drop_na()\n",
    "sampleddf <- df[sample(nrow(df), 10000), ]\n",
    "tsne <- Rtsne(, dims = 2, perplexity=30, verbose=TRUE, max_iter = 20)"
   ]
  },
  {
   "cell_type": "code",
   "execution_count": null,
   "metadata": {},
   "outputs": [],
   "source": []
  }
 ],
 "metadata": {
  "kernelspec": {
   "display_name": "R",
   "language": "R",
   "name": "ir"
  },
  "language_info": {
   "codemirror_mode": "r",
   "file_extension": ".r",
   "mimetype": "text/x-r-source",
   "name": "R",
   "pygments_lexer": "r",
   "version": "4.0.0"
  }
 },
 "nbformat": 4,
 "nbformat_minor": 2
}
